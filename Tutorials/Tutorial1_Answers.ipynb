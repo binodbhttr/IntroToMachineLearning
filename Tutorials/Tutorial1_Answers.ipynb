{
 "cells": [
  {
   "cell_type": "markdown",
   "metadata": {
    "toc": "true"
   },
   "source": [
    "# Table of Contents\n",
    " <p><div class=\"lev1 toc-item\"><a href=\"#Intoduction-to-Machine-Learning:-Linear-and-Logistic-Regression\" data-toc-modified-id=\"Intoduction-to-Machine-Learning:-Linear-and-Logistic-Regression-1\"><span class=\"toc-item-num\">1&nbsp;&nbsp;</span>Intoduction to Machine Learning: Linear and Logistic Regression</a></div><div class=\"lev2 toc-item\"><a href=\"#Packages\" data-toc-modified-id=\"Packages-11\"><span class=\"toc-item-num\">1.1&nbsp;&nbsp;</span>Packages</a></div><div class=\"lev1 toc-item\"><a href=\"#Linear-regression:-problem-overview\" data-toc-modified-id=\"Linear-regression:-problem-overview-2\"><span class=\"toc-item-num\">2&nbsp;&nbsp;</span>Linear regression: problem overview</a></div><div class=\"lev3 toc-item\"><a href=\"#Define-the-loss\" data-toc-modified-id=\"Define-the-loss-201\"><span class=\"toc-item-num\">2.0.1&nbsp;&nbsp;</span>Define the loss</a></div><div class=\"lev3 toc-item\"><a href=\"#Define-the-gradient\" data-toc-modified-id=\"Define-the-gradient-202\"><span class=\"toc-item-num\">2.0.2&nbsp;&nbsp;</span>Define the gradient</a></div><div class=\"lev3 toc-item\"><a href=\"#Compute-the-loss-and-gradient-together\" data-toc-modified-id=\"Compute-the-loss-and-gradient-together-203\"><span class=\"toc-item-num\">2.0.3&nbsp;&nbsp;</span>Compute the loss and gradient together</a></div><div class=\"lev3 toc-item\"><a href=\"#Perform-the-optimization\" data-toc-modified-id=\"Perform-the-optimization-204\"><span class=\"toc-item-num\">2.0.4&nbsp;&nbsp;</span>Perform the optimization</a></div><div class=\"lev3 toc-item\"><a href=\"#Results\" data-toc-modified-id=\"Results-205\"><span class=\"toc-item-num\">2.0.5&nbsp;&nbsp;</span>Results</a></div><div class=\"lev3 toc-item\"><a href=\"#Optional-Exercises\" data-toc-modified-id=\"Optional-Exercises-206\"><span class=\"toc-item-num\">2.0.6&nbsp;&nbsp;</span>Optional Exercises</a></div><div class=\"lev1 toc-item\"><a href=\"#Logistic-Regression:-problem-overview\" data-toc-modified-id=\"Logistic-Regression:-problem-overview-3\"><span class=\"toc-item-num\">3&nbsp;&nbsp;</span>Logistic Regression: problem overview</a></div><div class=\"lev2 toc-item\"><a href=\"#Loading-data\" data-toc-modified-id=\"Loading-data-31\"><span class=\"toc-item-num\">3.1&nbsp;&nbsp;</span>Loading data</a></div><div class=\"lev3 toc-item\"><a href=\"#Sigmoid\" data-toc-modified-id=\"Sigmoid-311\"><span class=\"toc-item-num\">3.1.1&nbsp;&nbsp;</span>Sigmoid</a></div><div class=\"lev3 toc-item\"><a href=\"#Loss-function\" data-toc-modified-id=\"Loss-function-312\"><span class=\"toc-item-num\">3.1.2&nbsp;&nbsp;</span>Loss function</a></div><div class=\"lev3 toc-item\"><a href=\"#Gradients\" data-toc-modified-id=\"Gradients-313\"><span class=\"toc-item-num\">3.1.3&nbsp;&nbsp;</span>Gradients</a></div><div class=\"lev3 toc-item\"><a href=\"#Initialize-the-weights-and-check-matrix-multiplication\" data-toc-modified-id=\"Initialize-the-weights-and-check-matrix-multiplication-314\"><span class=\"toc-item-num\">3.1.4&nbsp;&nbsp;</span>Initialize the weights and check matrix multiplication</a></div><div class=\"lev3 toc-item\"><a href=\"#Forward-and-backward-propagation\" data-toc-modified-id=\"Forward-and-backward-propagation-315\"><span class=\"toc-item-num\">3.1.5&nbsp;&nbsp;</span>Forward and backward propagation</a></div><div class=\"lev3 toc-item\"><a href=\"#Optimization\" data-toc-modified-id=\"Optimization-316\"><span class=\"toc-item-num\">3.1.6&nbsp;&nbsp;</span>Optimization</a></div><div class=\"lev1 toc-item\"><a href=\"#Introduction-to-Neural-Networks\" data-toc-modified-id=\"Introduction-to-Neural-Networks-4\"><span class=\"toc-item-num\">4&nbsp;&nbsp;</span>Introduction to Neural Networks</a></div><div class=\"lev3 toc-item\"><a href=\"#Initialize-the-parameters\" data-toc-modified-id=\"Initialize-the-parameters-401\"><span class=\"toc-item-num\">4.0.1&nbsp;&nbsp;</span>Initialize the parameters</a></div><div class=\"lev3 toc-item\"><a href=\"#The-loop\" data-toc-modified-id=\"The-loop-402\"><span class=\"toc-item-num\">4.0.2&nbsp;&nbsp;</span>The loop</a></div><div class=\"lev3 toc-item\"><a href=\"#Loss\" data-toc-modified-id=\"Loss-403\"><span class=\"toc-item-num\">4.0.3&nbsp;&nbsp;</span>Loss</a></div><div class=\"lev3 toc-item\"><a href=\"#Backpropagation\" data-toc-modified-id=\"Backpropagation-404\"><span class=\"toc-item-num\">4.0.4&nbsp;&nbsp;</span>Backpropagation</a></div><div class=\"lev3 toc-item\"><a href=\"#Update-parameters\" data-toc-modified-id=\"Update-parameters-405\"><span class=\"toc-item-num\">4.0.5&nbsp;&nbsp;</span>Update parameters</a></div><div class=\"lev3 toc-item\"><a href=\"#Put-it-all-together\" data-toc-modified-id=\"Put-it-all-together-406\"><span class=\"toc-item-num\">4.0.6&nbsp;&nbsp;</span>Put it all together</a></div><div class=\"lev2 toc-item\"><a href=\"#Discussion\" data-toc-modified-id=\"Discussion-41\"><span class=\"toc-item-num\">4.1&nbsp;&nbsp;</span>Discussion</a></div>"
   ]
  },
  {
   "cell_type": "markdown",
   "metadata": {},
   "source": [
    "# Intoduction to Machine Learning: Linear and Logistic Regression\n",
    "\n",
    "Welcome to the first tutorial. We will use Python packages to build up our intuition for how machine learning with neural networks for modern high energy physics. First, to get comfortable with Python packages, we will do some basic linear regression to fit lines and curves. From this, we will change the task into a classification problem, referred to as logistic regression. This is the natural building block of neural networks.\n",
    "\n",
    "**Instructions:**\n",
    "- Use the built in vectorized functions whenever possible. This means you should not use for/while loops unless asked to."
   ]
  },
  {
   "cell_type": "markdown",
   "metadata": {},
   "source": [
    "## Packages\n",
    "First, lets load in the packages that we will use.\n",
    "- [numpy](https://www.numpy.org/devdocs/user/index.html) is the package for numerical computations with Python (NUMerical PYthon)\n",
    "- [scipy](https://docs.scipy.org/doc/scipy/reference/) contains some of the numerical proceedures, such as minimizations\n",
    "- [matplotlib](https://matplotlib.org/3.1.0/tutorials/index.html) is a package for plotting"
   ]
  },
  {
   "cell_type": "code",
   "execution_count": 1,
   "metadata": {
    "collapsed": true
   },
   "outputs": [],
   "source": [
    "# allows for plotting within the notebook\n",
    "%matplotlib inline\n",
    "\n",
    "import numpy as np\n",
    "# import scipy\n",
    "import matplotlib.pyplot as plt"
   ]
  },
  {
   "cell_type": "code",
   "execution_count": 2,
   "metadata": {
    "collapsed": true
   },
   "outputs": [],
   "source": [
    "# The commands make the plots look nice\n",
    "plt.rcParams.update({'font.family': 'cmr10',\n",
    "                     'font.size': 12,\n",
    "                     'axes.unicode_minus': False,\n",
    "                     'axes.labelsize': 12,\n",
    "                     'figure.figsize': (3, 3),\n",
    "                     'figure.dpi': 80,\n",
    "                     'mathtext.fontset': 'cm',\n",
    "                     'mathtext.rm': 'serif',\n",
    "                     'xtick.direction': 'in',\n",
    "                     'ytick.direction': 'in',\n",
    "                     'xtick.top': True,\n",
    "                     'ytick.right': True\n",
    "                     })"
   ]
  },
  {
   "cell_type": "markdown",
   "metadata": {},
   "source": [
    "# Linear regression: problem overview\n",
    "Load in the data using np.load(). We want the files `tutorial_1_data/linear_training.npy` and `tutorial_1_data/linear_testing.npy`."
   ]
  },
  {
   "cell_type": "code",
   "execution_count": 3,
   "metadata": {
    "collapsed": false
   },
   "outputs": [],
   "source": [
    "xy_training = np.load('tutorial_1_data/linear_training.npy')\n",
    "xy_testing = np.load('tutorial_1_data/linear_testing.npy')"
   ]
  },
  {
   "cell_type": "code",
   "execution_count": 4,
   "metadata": {
    "collapsed": true
   },
   "outputs": [],
   "source": [
    "x = xy_training[:, 0]\n",
    "y = xy_training[:, 1]\n",
    "x_test = xy_testing[:, 0]\n",
    "y_test = xy_testing[:, 1]"
   ]
  },
  {
   "cell_type": "code",
   "execution_count": 5,
   "metadata": {
    "collapsed": false
   },
   "outputs": [
    {
     "data": {
      "image/png": "[encoded data removed]",
      "text/plain": [
       "<Figure size 240x240 with 1 Axes>"
      ]
     },
     "metadata": {
      "needs_background": "light"
     },
     "output_type": "display_data"
    }
   ],
   "source": [
    "plt.scatter(x, y, label='training data')\n",
    "plt.scatter(x_test, y_test, label='testing data')\n",
    "plt.xlabel('$x$')\n",
    "plt.ylabel('$y$')\n",
    "plt.legend()\n",
    "plt.show()"
   ]
  },
  {
   "cell_type": "markdown",
   "metadata": {},
   "source": [
    "This is the data that we will try to fit a line to. We will want to see how close we get to the true values of the slope and $y$ intercept that we put in by hand.\n",
    "\n",
    "### Define the loss\n",
    "In order to get a good fit, we first have to define what constitutes a good fit. For a situation where we are trying to predict a number, we often use the Mean Squared Error. This is given by\n",
    "\n",
    "$L^{\\rm{MSE}} = \\frac{1}{N}\\sum_i^N \\big(y_i - f(x_i) \\big)^2$\n",
    "\n",
    "where $y_i$ is the *true* value in the data and $f(x_i)$ is the predicted value."
   ]
  },
  {
   "cell_type": "code",
   "execution_count": 6,
   "metadata": {
    "collapsed": true
   },
   "outputs": [],
   "source": [
    "def MSE(y_true, y_pred):\n",
    "    return np.mean(np.square(y_true - y_pred))"
   ]
  },
  {
   "cell_type": "code",
   "execution_count": 7,
   "metadata": {
    "collapsed": false
   },
   "outputs": [
    {
     "name": "stdout",
     "output_type": "stream",
     "text": [
      "MSE = 0.006666666666666678\n"
     ]
    }
   ],
   "source": [
    "y_true = np.array([1, 2, 3])\n",
    "y_pred = np.array([1.1, 1.9, 3])\n",
    "print('MSE = ' + str(MSE(y_true, y_pred)))"
   ]
  },
  {
   "cell_type": "markdown",
   "metadata": {},
   "source": [
    "**Expected Output**: \n",
    "\n",
    "<table>\n",
    "  <tr>\n",
    "    <td>MSE</td>\n",
    "    <td> 0.006666666666666678</td> \n",
    "  </tr>\n",
    "</table>"
   ]
  },
  {
   "cell_type": "markdown",
   "metadata": {},
   "source": [
    "### Define the gradient\n",
    "To find the minimum of the loss function (minimizing the error) we need to have the gradient of the loss with respect to the parameters of the model. As our data looks linear, let's use a simple form of $f(x_i) = m~x_i+b$. We write this out with the chain rule as a precursor for the deep neural networks.\n",
    "- Partial derivative with respect to $m$\n",
    "\\begin{eqnarray}\n",
    "\\frac{\\partial}{\\partial m} L^{\\rm{MSE}} &=& \\frac{1}{N} \\sum_i^N~-2\\big(y_i - f(x_i)\\big) ~\\frac{\\partial f(x_i)}{\\partial m}\\\\\n",
    "&=& \\frac{1}{N} \\sum_i^N~-2\\big(y_i - f(x_i)\\big) ~x_i\n",
    "\\end{eqnarray}\n",
    "- Partial derivative with respect to $b$\n",
    "\\begin{eqnarray}\n",
    "\\frac{\\partial}{\\partial b} L^{\\rm{MSE}} &=& \\frac{1}{N} \\sum_i^N~-2\\big(y_i - f(x_i)\\big) ~\\frac{\\partial f(x_i)}{\\partial b}\\\\\n",
    "&=& \\frac{1}{N} \\sum_i^N~-2\\big(y_i - f(x_i)\\big)\n",
    "\\end{eqnarray}"
   ]
  },
  {
   "cell_type": "markdown",
   "metadata": {},
   "source": [
    "### Compute the loss and gradient together\n",
    "This will be called the \"forward propagation\" step when we get to neural networks. We want a function that takes in the\n",
    "- model parameters (m and b)\n",
    "- input data\n",
    "- true y values\n",
    "\n",
    "and computes returns the loss and the gradient (for both m and b)"
   ]
  },
  {
   "cell_type": "code",
   "execution_count": 8,
   "metadata": {
    "collapsed": true
   },
   "outputs": [],
   "source": [
    "def propagate(m, b, X, Y):\n",
    "    '''\n",
    "    Implement the cost function and its gradient\n",
    "    \n",
    "    Arguments:\n",
    "    m -- scalar, slope of the line\n",
    "    b -- scalar, bias\n",
    "    X -- np.array\n",
    "    Y -- true value\n",
    "    \n",
    "    Return:\n",
    "    cost -- Mean squared error\n",
    "    dm -- gradient of the loss with respect to m\n",
    "    db -- gradient of the loss with respect to b\n",
    "    '''\n",
    "    ### Implement your code here ###\n",
    "    y_pred = m * X + b\n",
    "    cost = MSE(Y, y_pred)\n",
    "    ## End code ###\n",
    "    \n",
    "    ### Find gradient\n",
    "    ### Implement your code here ###\n",
    "    dm = np.mean(-2 * (Y - y_pred) * X)\n",
    "    db = np.mean(-2 * (Y - y_pred))\n",
    "    ## End code ###\n",
    "    \n",
    "    assert(dm.dtype == float)\n",
    "    assert(db.dtype == float)\n",
    "    \n",
    "    # this makes a look-up table for easy use later\n",
    "    grads = {'dm': dm,\n",
    "             'db': db\n",
    "            }\n",
    "    \n",
    "    return grads, cost"
   ]
  },
  {
   "cell_type": "code",
   "execution_count": 9,
   "metadata": {
    "collapsed": false
   },
   "outputs": [
    {
     "name": "stdout",
     "output_type": "stream",
     "text": [
      "dm = 15.7\n",
      "db = 6.8\n",
      "MSE = 15.444999999999999\n"
     ]
    }
   ],
   "source": [
    "m, b, X, Y = 1.0, 2.5, np.array([1, 2, 3, 4]), np.array([1.2, -2.3, 3.0, 4.5])\n",
    "grads, cost = propagate(m, b, X, Y)\n",
    "print('dm = ' + str(grads['dm']))\n",
    "print('db = ' + str(grads['db']))\n",
    "print('MSE = ' + str(cost))"
   ]
  },
  {
   "cell_type": "markdown",
   "metadata": {},
   "source": [
    "**Expected Output**: \n",
    "\n",
    "<table>\n",
    "  <tr>\n",
    "    <td>dm</td>\n",
    "    <td>15.7</td> \n",
    "  </tr>\n",
    "  <tr>\n",
    "    <td>db</td>\n",
    "    <td>6.8</td> \n",
    "  </tr>\n",
    "  <tr>\n",
    "    <td>MSE</td>\n",
    "    <td>15.444999999999999</td> \n",
    "  </tr>\n",
    "</table>"
   ]
  },
  {
   "cell_type": "markdown",
   "metadata": {},
   "source": [
    "### Perform the optimization\n",
    "**Exercise:** Write down the optimization function. The goal is to learn $m$ and $b$ by minimizing the cost function. For a parameter $\\theta$, the update rule is $\\theta = \\theta - \\alpha~d\\theta$, where $\\alpha$ is the learning rate and $d\\theta$ is the derivative."
   ]
  },
  {
   "cell_type": "code",
   "execution_count": 10,
   "metadata": {
    "collapsed": true
   },
   "outputs": [],
   "source": [
    "def optimize(m, b, X, Y, num_iterations, learning_rate, print_cost=False):\n",
    "    '''\n",
    "    The function finds the optimal values for m and b by running a gradient descent algorithm\n",
    "    \n",
    "    m -- scalar, slope of the line\n",
    "    b -- scalar, bias\n",
    "    X -- np.array\n",
    "    Y -- true value\n",
    "    num_iterations -- number of iterations of the optimization loop\n",
    "    learning_rate -- learning rate of the gradient descent update rule\n",
    "    print_cost -- True to print the loss every 100 steps\n",
    "    \n",
    "    Returns:\n",
    "    params -- dictionary containing the slope m and bias b\n",
    "    grads -- dictionary containing the gradients of the slope and bias with respect to the cost function\n",
    "    costs -- list of all the costs computed during the optimization, this will be used to plot the learning curve.\n",
    "    '''\n",
    "    \n",
    "    costs = []\n",
    "    slopes = []\n",
    "    biases = []\n",
    "    \n",
    "    for i in range(num_iterations):\n",
    "        slopes.append(m)\n",
    "        biases.append(b)\n",
    "        # cost and caculate gradient\n",
    "        ### Start code here ###\n",
    "        grads, cost = propagate(m, b, X, Y)\n",
    "        ### End code here ###\n",
    "        \n",
    "        # Retrieve derivatives from grads\n",
    "        dm = grads['dm']\n",
    "        db = grads['db']\n",
    "        \n",
    "        # update rule\n",
    "        ### Start code here ###\n",
    "        m = m - learning_rate * dm\n",
    "        b = b - learning_rate * db\n",
    "        ### End code here ###\n",
    "        \n",
    "        # Record the costs\n",
    "        costs.append(cost)\n",
    "        \n",
    "        # Print the cost every 100 training iterations\n",
    "        if print_cost and i % 100 == 0:\n",
    "            print('Cost after iteration %i: %f' %(i, cost))\n",
    "            \n",
    "    params = {'m': m,\n",
    "              'b': b\n",
    "             }\n",
    "    grads = {'dm': dm,\n",
    "             'db': db\n",
    "            }\n",
    "    \n",
    "    return params, grads, costs, slopes, biases"
   ]
  },
  {
   "cell_type": "markdown",
   "metadata": {},
   "source": [
    "**Exercise:** Now use the `optimize` function to find the best fit line, using an initial guess for $m,b=0$. For now, use a learning rate of 0.01 and at least 1000 iterations of training."
   ]
  },
  {
   "cell_type": "code",
   "execution_count": 11,
   "metadata": {
    "collapsed": true
   },
   "outputs": [],
   "source": [
    "params, grads, costs, slopes, biases = optimize(0, 0, x, y, 1000, 1e-2, print_cost=False)"
   ]
  },
  {
   "cell_type": "markdown",
   "metadata": {},
   "source": [
    "Let's plot the results to see if the training worked. The left panel should show the MSE loss, which should decrease with every training step. The next two panels show the value of the slope and $y$-intercept for each training step. These should be asymptoting to values around -2 and 5, respectively. If you do not see this happening, you should debug the `optimize` code above."
   ]
  },
  {
   "cell_type": "code",
   "execution_count": 12,
   "metadata": {
    "collapsed": false
   },
   "outputs": [
    {
     "data": {
      "image/png": "[encoded data removed]",
      "text/plain": [
       "<Figure size 720x240 with 3 Axes>"
      ]
     },
     "metadata": {
      "needs_background": "light"
     },
     "output_type": "display_data"
    }
   ],
   "source": [
    "plt.figure(figsize=(9, 3))\n",
    "\n",
    "plt.subplot(1, 3, 1)\n",
    "plt.plot(costs)\n",
    "plt.xlabel('Iteration')\n",
    "plt.ylabel('MSE')\n",
    "plt.yscale('log')\n",
    "plt.minorticks_on()\n",
    "\n",
    "plt.subplot(1, 3, 2)\n",
    "plt.plot(slopes)\n",
    "plt.xlabel('Iteration')\n",
    "plt.ylabel('Slope')\n",
    "plt.minorticks_on()\n",
    "\n",
    "plt.subplot(1, 3, 3)\n",
    "plt.plot(biases)\n",
    "plt.xlabel('Iteration')\n",
    "plt.ylabel('Bias')\n",
    "plt.minorticks_on()\n",
    "\n",
    "plt.tight_layout()"
   ]
  },
  {
   "cell_type": "markdown",
   "metadata": {},
   "source": [
    "### Results\n",
    "Now plot the final predictions compared to the test values."
   ]
  },
  {
   "cell_type": "code",
   "execution_count": 13,
   "metadata": {
    "collapsed": false
   },
   "outputs": [
    {
     "data": {
      "image/png": "[encoded data removed]",
      "text/plain": [
       "<Figure size 240x240 with 1 Axes>"
      ]
     },
     "metadata": {
      "needs_background": "light"
     },
     "output_type": "display_data"
    }
   ],
   "source": [
    "xrange = np.linspace(0, 10)\n",
    "y_pred = xrange * params['m'] + params['b']\n",
    "plt.plot(xrange, y_pred)\n",
    "plt.scatter(x_test, y_test, color='C1', label='testing data')\n",
    "plt.text(7., 1, r'$y=$' + '{0:.3f}'.format(params['m']) + r'$*x + $' + '{0:.3f}'.format(params['b']),\n",
    "         ha='center', va='top')\n",
    "plt.xlabel('$x$')\n",
    "plt.ylabel('$y$')\n",
    "plt.legend()\n",
    "plt.show()"
   ]
  },
  {
   "cell_type": "markdown",
   "metadata": {},
   "source": [
    "We should also check the loss for the training and testing values, to make sure that they are similar."
   ]
  },
  {
   "cell_type": "code",
   "execution_count": 14,
   "metadata": {
    "collapsed": false
   },
   "outputs": [
    {
     "name": "stdout",
     "output_type": "stream",
     "text": [
      "The losses are: training set=9.819e-01, test set=1.172e+00\n"
     ]
    }
   ],
   "source": [
    "Loss_train = MSE(y_true=y, y_pred=x*params['m'] + params['b'])\n",
    "Loss_test = MSE(y_true=y_test, y_pred=x_test*params['m'] + params['b'])\n",
    "print('The losses are: training set={0:.3e}, test set={1:.3e}'.format(Loss_train, Loss_test))"
   ]
  },
  {
   "cell_type": "markdown",
   "metadata": {},
   "source": [
    "Notice that the loss is smaller for the training set. This is because our model is trained to minimize the loss on that data. However, the losses are still similar, so it does not look like we have over-fit the data.\n",
    "\n",
    "### Optional Exercises\n",
    "1. What is the effect of the learning rate? Try varying the learning rate between $10^{-3}$ to $1$. What happens when the learning rate is large? Why?\n",
    "2. How would the procedure change if there was a shape to the data? Load the files `tutorial_1_data/linear_regression_curved_training.npy` and `tutorial_1_data/linear_regression_curved_test.npy` and find a function to fit the curve.\n",
    "\n",
    "As an extra thought experiment, this example and the curved example only have one piece of input information (namely $x$). How would we generalize the setup to more than 1 input variabeles? So now, each 'event' $x_i$ is actually a vector which has $j$ dimensions. I will now change notation and write the whole dataset as $X^i_j$, where the lower components represent the vector of information, and the upper component is the different 'events' or datapoints. We will develop this more in the next section, when we explore logistic regression."
   ]
  },
  {
   "cell_type": "markdown",
   "metadata": {},
   "source": [
    "# Logistic Regression: problem overview\n",
    "In linear regression, we are trying to predict a continuous value. In the literature, it is still referred to as linear regression when the models are more complicated, involving higher powers than just linear. Logisitic regression is used when we want to classify data as belonging to one group or another. In high energy physics, this could come in the form of: was this event new physics or not? was this jet from QCD or a boosted Higgs? We will build up to working with a dataset from our parton showers to ask if the initiating parton of jet was a quark or a gluon.\n",
    "\n",
    "Before we get to the physics cases with many inputs, we will work another simple example using a 2D dataset so that we can easily visualize how things are working. The datasets we will be working with for this example are:\n",
    "- `tutorial_1_data/logistic_regression_training.npy`\n",
    "- `tutorial_1_data/logistic_regression_validation.npy`\n",
    "- `tutorial_1_data/logistic_regression_testing.npy`\n",
    "\n",
    "We have specifically added in a validation set, which will be used to check if the models we make are being overfit to the training set. It is important that the *test* data is not used in optimizing model selections.\n",
    "\n",
    "## Loading data\n",
    "Load the datasets. These numpy arrays have a shape of (number of events, 3). The first two columns of the 3 are $x_1$ and $x_2$. The last columns is a number 0 or 1, which indicates if the event was a background or signal, respectively.\n",
    "\n",
    "**Exercise:** Load the data and seperate out the data columns from the label. (Hint: use the slicing feature of numpy)"
   ]
  },
  {
   "cell_type": "code",
   "execution_count": 15,
   "metadata": {
    "collapsed": true
   },
   "outputs": [],
   "source": [
    "training = np.load('tutorial_1_data/logistic_regression_training.npy')\n",
    "X_Train = training[:, :2]\n",
    "Y_Train = training[:, 2].reshape(-1, 1)  # makes it a vector\n",
    "\n",
    "validation = np.load('tutorial_1_data/logistic_regression_validation.npy')\n",
    "X_Val = validation[:, :2]\n",
    "Y_Val = validation[:, 2].reshape(-1, 1)  # makes it a vector\n",
    "\n",
    "testing = np.load('tutorial_1_data/logistic_regression_testing.npy')\n",
    "X_Test = testing[:, :2]\n",
    "Y_Test = testing[:, 2].reshape(-1, 1)  # makes it a vector"
   ]
  },
  {
   "cell_type": "code",
   "execution_count": 16,
   "metadata": {
    "collapsed": false
   },
   "outputs": [
    {
     "data": {
      "image/png": "[encoded data removed]",
      "text/plain": [
       "<Figure size 240x240 with 1 Axes>"
      ]
     },
     "metadata": {
      "needs_background": "light"
     },
     "output_type": "display_data"
    }
   ],
   "source": [
    "plt.scatter(X_Train[np.ravel(Y_Train==1), 0], X_Train[np.ravel(Y_Train==1), 1], color='C0', s=9, label='Sig')\n",
    "plt.scatter(X_Train[np.ravel(Y_Train==0), 0], X_Train[np.ravel(Y_Train==0), 1], color='C3', s=9, label='Back')\n",
    "plt.xlim(-0.05, 5.05)\n",
    "plt.ylim(-0.05, 5.05)\n",
    "plt.minorticks_on()\n",
    "plt.xlabel('$x_1$')\n",
    "plt.ylabel('$x_2$')\n",
    "plt.legend(loc=(1.05, 0.45), frameon=False, fontsize=14)\n",
    "plt.title('Training Data')\n",
    "\n",
    "plt.show()"
   ]
  },
  {
   "cell_type": "markdown",
   "metadata": {},
   "source": [
    "Our goal is now to find a model which will predict whether a point $(x_1, x_2)$ in parameter space comes from either the Signal set or the Background set. As a first approximation, the boundary between the two is approximately linear. We will use this our first model.\n",
    "\n",
    "### Sigmoid\n",
    "In order to interpret our results, we will first need to modify our model such that the output is always between 0 and 1. Such a function is usually called a sigmoid function. We will use the most common definition as\n",
    "\\begin{equation}\n",
    "\\sigma(z) \\equiv \\frac{1}{1+e^{-z}}\n",
    "\\end{equation}\n",
    "\n",
    "**Exercise:** Program a function for the sigmoid definition. Then plot $\\sigma(z)$ for $z\\in [-5, 5]$. Hint, use [this](https://docs.scipy.org/doc/numpy/reference/generated/numpy.exp.html)."
   ]
  },
  {
   "cell_type": "code",
   "execution_count": 17,
   "metadata": {
    "collapsed": true
   },
   "outputs": [],
   "source": [
    "def sigmoid(z):\n",
    "    '''\n",
    "    Computes the sigmoid of z\n",
    "    \n",
    "    Arguments:\n",
    "    z -- A scalar or numpy array of any size\n",
    "    \n",
    "    Return:\n",
    "    s -- sigmoid(z)\n",
    "    '''\n",
    "    \n",
    "    ### Start code here ### (about 1 line of code)\n",
    "    s = 1.0 / (1 + np.exp(-z))\n",
    "    ### End code here ###\n",
    "    \n",
    "    return s"
   ]
  },
  {
   "cell_type": "markdown",
   "metadata": {},
   "source": [
    "Test the implementation"
   ]
  },
  {
   "cell_type": "code",
   "execution_count": 18,
   "metadata": {
    "collapsed": false
   },
   "outputs": [
    {
     "data": {
      "text/plain": [
       "array([0.5       , 0.73105858, 0.88079708])"
      ]
     },
     "execution_count": 18,
     "metadata": {},
     "output_type": "execute_result"
    }
   ],
   "source": [
    "sigmoid(np.array([0, 1, 2]))"
   ]
  },
  {
   "cell_type": "markdown",
   "metadata": {},
   "source": [
    "**Expected Output:**\n",
    "<table>\n",
    "  <tr>\n",
    "     <td> sigmoid([0,1,2])</td>\n",
    "    <td>array([0.5       , 0.73105858, 0.88079708])</td> \n",
    "  </tr>\n",
    "</table>\n"
   ]
  },
  {
   "cell_type": "code",
   "execution_count": 19,
   "metadata": {
    "collapsed": false
   },
   "outputs": [
    {
     "data": {
      "image/png": "[encoded data removed]",
      "text/plain": [
       "<Figure size 240x240 with 1 Axes>"
      ]
     },
     "metadata": {
      "needs_background": "light"
     },
     "output_type": "display_data"
    }
   ],
   "source": [
    "z = np.linspace(-5, 5, 21)\n",
    "plt.plot(z, sigmoid(z))\n",
    "plt.minorticks_on()\n",
    "plt.xlabel('$z$')\n",
    "plt.ylabel(r'$\\sigma(z)$')\n",
    "plt.show()"
   ]
  },
  {
   "cell_type": "markdown",
   "metadata": {},
   "source": [
    "With this simple modification, we can now use a very similar model to what we had before. The first part of our linear model will be to take\n",
    "\\begin{equation}\n",
    "z^i = w_1~x_1^i + w_2~x_2^i + b~,\n",
    "\\end{equation}\n",
    "where supsript $i$ refers to the specific data point and the subscript refers to the particular dimension of the data. This should look very similar to our linear model before, where $b$ is again the bias, but now we have two \"slopes\" which we mark as $w_j$ instead of $m$. From now on, these will be called \"weights\". In building up to large dimensional data, we don't want to write out all of this multiplication by hand. Instead we will make a vector $W = (w_1, w_2, \\cdots)$ and use the dot product.\n",
    "\n",
    "In our optimization, we will learn the values of $w_1$, $w_2$, and $b$ which minimizes the loss. Note that we want these to yield **large positive** values of $z$ for events that are signal-like (lower left corner) and **large negative** values for the background-like (upper right). Then, when we feed these through the sigmoid function, they will be mapped to 0 and 1.\n",
    "\n",
    "Feeding the results through the sigmoid is called the *activation*. The sigmoid is not the only function that can be used for this. In the next tutorial we will explore the need for other *Activation Functions*."
   ]
  },
  {
   "cell_type": "markdown",
   "metadata": {},
   "source": [
    "### Loss function\n",
    "It is possible to use the mean squared error for classification, however, minimizing this does not lead to the best classification. This can be seen from:\n",
    "1. The largest possible 'error' is 1, so there is no sense of being very wrong in a prediction.\n",
    "2. Large positive or negative values of $z$ asymptote to 0 or 1. With this, the there is little difference in the mean squared error if the model outputs $z=10$ or $z=20$. However, from the underlying definition of $z=W\\cdot X + b$, there is a big difference. This relates to how 'confident' the model is. We want the loss to reward or punish predictions which are confident and right or wrong, respectively.\n",
    "\n",
    "To accomplish this, we use the **Binary Cross Entropy**. For a very nice lecture on how this can be derived from a probability standpoint, see [Lecture 2 of Gilles Louppe's class](https://github.com/glouppe/info8010-deep-learning).\n",
    "\n",
    "The binary cross entropy is defined as\n",
    "\\begin{equation}\n",
    "L^{\\rm{BCE}} = -\\frac{1}{N} \\sum_i^N y^i \\log f(\\mathbf{x}^i) + \\big(1-y^i\\big) \\log\\big(1-f(\\mathbf{x}^i) \\big)\n",
    "\\end{equation}\n",
    "\n",
    "where $y^i$ is again the true label, and $f(\\mathbf{x}^i)$ is the bold and the vector denotes that $\\mathbf{x}$ has multiple dimensions.\n",
    "\n",
    "Let's examine why BCE works and addresses the problems we had with MSE. If the event is from the class $y=1$, then the first term contributes and the second term is identically 0. If the overall prediction is close to 1, the loss asymptotes to 0. So the more confident the model is, the lower the loss. Conversely, the more negative $z$ is, the closer to 0 is the prediction. When we take the $\\log$ of this, the loss blows up (note the overall negative sign in the front of the sum). The story is similar for events coming from $y=0$. Now the first term is identically 0, and the second term contributes. Predictions close to 0 now result in small losses while perdictions close to 1 yield very large losses. While this is not a proof, it at least gives some intuition for why this loss function is used for binary classification problems.\n",
    "\n",
    "**Exercise:** Implement the Binary Cross Entropy loss function."
   ]
  },
  {
   "cell_type": "code",
   "execution_count": 20,
   "metadata": {
    "collapsed": true
   },
   "outputs": [],
   "source": [
    "def BCE(y_true, y_pred):\n",
    "    '''\n",
    "    Computes the binary cross entropy\n",
    "    \n",
    "    Arguments:\n",
    "    y_true -- 1 dimensional numpy array with the true labels. Should all be either 0 or 1\n",
    "    y_pred -- 1 dimensional numpy array containing predictions. Should be continuous between 0 and 1\n",
    "    \n",
    "    Return:\n",
    "    bce -- scalar value\n",
    "    '''\n",
    "    \n",
    "    ### Start code here ### (about 1 line of code)\n",
    "    bce = -np.mean((y_true * np.log(y_pred)) + ((1 - y_true) * np.log(1 - y_pred)))\n",
    "    ### End code here ###\n",
    "    \n",
    "    return bce"
   ]
  },
  {
   "cell_type": "markdown",
   "metadata": {},
   "source": [
    "Test the implementation"
   ]
  },
  {
   "cell_type": "code",
   "execution_count": 21,
   "metadata": {
    "collapsed": false
   },
   "outputs": [
    {
     "data": {
      "text/plain": [
       "2.307610260920796"
      ]
     },
     "execution_count": 21,
     "metadata": {},
     "output_type": "execute_result"
    }
   ],
   "source": [
    "BCE(np.array([0, 0, 1, 1]), np.array([0.01, 0.99, 0.01, 0.99]))"
   ]
  },
  {
   "cell_type": "markdown",
   "metadata": {},
   "source": [
    "**Expected Output:**\n",
    "<table>\n",
    "  <tr>\n",
    "    <td> BCE([0, 0, 1, 1]), [0.01, 0.99, 0.01, 0.99]) </td>\n",
    "    <td> 2.307610260920796 </td> \n",
    "  </tr>\n",
    "</table>\n"
   ]
  },
  {
   "cell_type": "markdown",
   "metadata": {},
   "source": [
    "### Gradients\n",
    "We are now almost ready to make our first classiciation model. The last things needed for the optimization are the gradients. You should check the following results. I use $z$ just to help with the chain rule.\n",
    "\n",
    "\\begin{eqnarray}\n",
    "\\frac{\\partial}{\\partial z} L^{\\rm{BCE}}\\big(y_{\\rm{true}}, y_{\\rm{pred}}(z) \\big)\n",
    " & = & \\frac{1}{N}\\sum_i^N \\bigg(\\frac{1-y_{\\rm{true}}}{1-y_{\\rm{pred}}(z)} - \\frac{y_{\\rm{true}}}{y_{\\rm{pred}}(z)} \\bigg) \\frac{\\partial y_{\\rm{pred}}(z)}{\\partial z}\n",
    "\\end{eqnarray}\n",
    "\n",
    "We use $y_{\\rm{pred}}\\big(z(x)\\big) = \\sigma\\big(z(x)\\big)$, \n",
    "\\begin{eqnarray}\n",
    "\\frac{\\partial \\sigma\\big(z(x)\\big)}{\\partial x} &=& \\frac{e^{-z(x)}}{\\big(1+e^{-z(x)} \\big)^2} \\frac{\\partial z(x)}{\\partial x} \\\\\n",
    "&=& \\sigma\\big(z(x) \\big) \\Big(1-\\sigma\\big(z(x) \\big) \\Big) \\frac{\\partial z(x)}{\\partial x}\n",
    "\\end{eqnarray}\n",
    "where $x$ is just another dummy variable, and *not* the data.\n",
    "\n",
    "Finally, we use $z^i = W\\cdot \\mathbf{x}^i + b$, giving:\n",
    "\\begin{equation}\n",
    "\\frac{\\partial z(w,b)}{\\partial w_j} = x_j^i\n",
    "\\end{equation}\n",
    "and\n",
    "\\begin{equation}\n",
    "\\frac{\\partial z(w,b)}{\\partial b} = 1\n",
    "\\end{equation}\n",
    "\n",
    "It will be beneficial to program in a function for the derivative of the sigmoid.\n",
    "\n",
    "**Exercise:** Implement the sigmoid_derivative to compute the derivative with respect to the input."
   ]
  },
  {
   "cell_type": "code",
   "execution_count": 22,
   "metadata": {
    "collapsed": true
   },
   "outputs": [],
   "source": [
    "def sigmoid_derivative(z):\n",
    "    '''\n",
    "    Compute the gradient of the sigmoid function with respect to its input z.\n",
    "    It can be useful to store this into a variable later\n",
    "    \n",
    "    Arguments:\n",
    "    z -- A scalar or numpy array\n",
    "    \n",
    "    Returns:\n",
    "    ds -- The computed gradient\n",
    "    '''\n",
    "    \n",
    "    ### Start code here ### (around a few lines of code)\n",
    "    s = sigmoid(z)\n",
    "    ds = s * (1 - s)\n",
    "    ### End code here ####\n",
    "    \n",
    "    return ds"
   ]
  },
  {
   "cell_type": "markdown",
   "metadata": {},
   "source": [
    "Test the implementation"
   ]
  },
  {
   "cell_type": "code",
   "execution_count": 23,
   "metadata": {
    "collapsed": false
   },
   "outputs": [
    {
     "name": "stdout",
     "output_type": "stream",
     "text": [
      "sigmoid_derivative(x) = [0.19661193 0.10499359 0.04517666]\n"
     ]
    }
   ],
   "source": [
    "x = np.array([1, 2, 3])\n",
    "print (\"sigmoid_derivative(x) = \" + str(sigmoid_derivative(x)))"
   ]
  },
  {
   "cell_type": "markdown",
   "metadata": {},
   "source": [
    "**Expected Output**: \n",
    "\n",
    "\n",
    "<table>\n",
    "    <tr> \n",
    "        <td> sigmoid_derivative([1,2,3])</td> \n",
    "        <td> [ 0.19661193  0.10499359  0.04517666] </td> \n",
    "    </tr>\n",
    "</table> \n",
    "\n",
    "\n"
   ]
  },
  {
   "cell_type": "markdown",
   "metadata": {},
   "source": [
    "### Initialize the weights and check matrix multiplication\n",
    "In the linear regression section, we started with the slope and $y$-intercept set to 0. We will want to do the same sort of thing for our weights and bias. We will write this as a function of the number of dimensions so that when we go to larger datasets we don't have to do it by hand\n",
    "\n",
    "**Exercise:** Implement a function to output a vector of zeros for the weights and a single 0 for the bias. Hint: look up [numpy's zeros function](https://docs.scipy.org/doc/numpy/reference/generated/numpy.zeros.html?highlight=zeros#numpy.zeros)"
   ]
  },
  {
   "cell_type": "code",
   "execution_count": 24,
   "metadata": {
    "collapsed": true
   },
   "outputs": [],
   "source": [
    "def initialize_zeros(dim):\n",
    "    '''\n",
    "    This function creates a vecor of zeros with shape (dim, 1) for W.\n",
    "    It also inializes b to 0\n",
    "    \n",
    "    Argument:\n",
    "    dim -- interger, the size of the w vector\n",
    "    \n",
    "    Returns:\n",
    "    w -- initialized vector of shape (dim, 1)\n",
    "    b -- initialized scalar for the bias\n",
    "    '''\n",
    "    \n",
    "    ### Start code here ###\n",
    "    w = np.zeros([dim, 1])\n",
    "    b = 0.\n",
    "    ### end code here\n",
    "    \n",
    "    assert(w.shape == (dim, 1))\n",
    "    assert(isinstance(b, float))\n",
    "    \n",
    "    return w, b"
   ]
  },
  {
   "cell_type": "markdown",
   "metadata": {},
   "source": [
    "Test the implementation"
   ]
  },
  {
   "cell_type": "code",
   "execution_count": 25,
   "metadata": {
    "collapsed": false
   },
   "outputs": [
    {
     "name": "stdout",
     "output_type": "stream",
     "text": [
      "w = [[0.]\n",
      " [0.]]\n",
      "b = 0.0\n"
     ]
    }
   ],
   "source": [
    "dim = 2\n",
    "w, b = initialize_zeros(dim)\n",
    "print (\"w = \" + str(w))\n",
    "print (\"b = \" + str(b))"
   ]
  },
  {
   "cell_type": "markdown",
   "metadata": {},
   "source": [
    "**Expected Output**: \n",
    "\n",
    "\n",
    "<table style=\"width:15%\">\n",
    "    <tr>\n",
    "        <td>  w  </td>\n",
    "        <td> [[ 0.]\n",
    " [ 0.]] </td>\n",
    "    </tr>\n",
    "    <tr>\n",
    "        <td>  b </td>\n",
    "        <td> 0 </td>\n",
    "    </tr>\n",
    "</table>\n",
    "\n",
    "With this setup, we now have that the shape of $W$ is (2, 1). Each data vector for $X$ is a shape (1, 2) as well. The overall shape of the data is (N, 2). We want to get out the dot product over each row, so the output should be of the shape (N, 1)\n",
    "\n",
    "\\begin{equation}\n",
    "Z = X\\cdot W + b\n",
    "\\end{equation}\n",
    "\n",
    "In some cases (namely doing images) the input data may have yet and extra dimension in the shape (the RGB colors for each pixel). Care needs to be taken in doing the matrix multiplication correctly.\n",
    "\n",
    "**Exercise:** Check that the matrix multiplication works as expected. Note the difference in numpy between `*` and `.dot()`."
   ]
  },
  {
   "cell_type": "code",
   "execution_count": 26,
   "metadata": {
    "collapsed": true
   },
   "outputs": [],
   "source": [
    "# Use *"
   ]
  },
  {
   "cell_type": "code",
   "execution_count": 27,
   "metadata": {
    "collapsed": true
   },
   "outputs": [],
   "source": [
    "# Use np.dot()"
   ]
  },
  {
   "cell_type": "markdown",
   "metadata": {},
   "source": [
    "### Forward and backward propagation\n",
    "Now that the parameters have been initalized, we can do the forward and backward steps for learning the parameters.\n",
    "\n",
    "**Exercise:** Implement a function `propagate()` that computes the cost function and gradient.\n",
    "\n",
    "**Hints:**\n",
    "\n",
    "Forward propagation:\n",
    "* You get $X$\n",
    "* Compute $A = \\sigma\\big(X\\cdot W +b\\big) = \\big(a_{1}, a_{2},\\cdots,a_{N}\\big)$\n",
    "* Calculate the cost function $L = -\\frac{1}{N} \\sum_{i=1}^N y_i \\log a_i + \\big(1-y_i\\big) \\log\\big(1-a_i\\big)$\n",
    "\n",
    "It will be usefull to fill in the rest of the chain rule and simplify to get\n",
    "\\begin{equation}\n",
    "\\frac{\\partial L}{\\partial w^j} = \\frac{1}{N} \\sum_{i=1}^N (a_i - y_i) * x_i^j \n",
    "\\end{equation}\n",
    "and\n",
    "\\begin{equation}\n",
    "\\frac{\\partial L}{\\partial b} = \\frac{1}{N} \\sum_{i=1}^N (a_i - y_i)~.\n",
    "\\end{equation}\n",
    "Again, we want to not use any explicit for loops, so be careful with the shapes when multiplying arrays."
   ]
  },
  {
   "cell_type": "code",
   "execution_count": 28,
   "metadata": {
    "collapsed": true
   },
   "outputs": [],
   "source": [
    "def propagate(w, b, X, Y):\n",
    "    '''\n",
    "    Implement the cost function and its gradient for the propagation above\n",
    "    \n",
    "    Arguments:\n",
    "    w -- weights, a numpy array of size (dim(x[0]), 1)\n",
    "    b -- bias, a scalar\n",
    "    X -- data with shape (number of datapoints, dimensionality of the data)\n",
    "    Y -- true label, vector of 0 or 1\n",
    "    \n",
    "    Returns:\n",
    "    cost -- BCE which is the negative log-likelihhood (cost and loss are used interchangeably)\n",
    "    dw -- gradient of the loss with respect to w, needs to be the same shape as w\n",
    "    db -- gradient of the loss with respect to b, needs to be the same shape as b\n",
    "    \n",
    "    Tips:\n",
    "    Write the code step by step and use np.log() and np.dot().\n",
    "    Print shapes if you need to get the dot products correct.\n",
    "    '''\n",
    "    N = X.shape[0]  # number of data points\n",
    "    \n",
    "    # Forward propagation (from X to cost)\n",
    "    ### Start code here ### (around 2 lines of code)\n",
    "    A = sigmoid(np.dot(X, w) + b)\n",
    "    cost = -np.mean(Y * np.log(A) + (1 - Y) * np.log(1 - A))\n",
    "    ### End code here ###\n",
    "    \n",
    "    # Backward propogration (to find the gradient)\n",
    "    ### Start code here ### (around 2 lines of code)\n",
    "    # Do not use a loop\n",
    "    dw = np.dot(X.T, (A - Y)) / N\n",
    "    db = np.mean(A - Y)\n",
    "    ### END CODE HERE ###\n",
    "\n",
    "    assert(dw.shape == w.shape)\n",
    "    assert(db.dtype == float)\n",
    "    cost = np.squeeze(cost)\n",
    "    assert(cost.shape == ())\n",
    "    \n",
    "    grads = {\"dw\": dw,\n",
    "             \"db\": db}\n",
    "    \n",
    "    return grads, cost"
   ]
  },
  {
   "cell_type": "markdown",
   "metadata": {},
   "source": [
    "Test the implementation"
   ]
  },
  {
   "cell_type": "code",
   "execution_count": 29,
   "metadata": {
    "collapsed": false
   },
   "outputs": [
    {
     "name": "stdout",
     "output_type": "stream",
     "text": [
      "dw = [[0.99845601]\n",
      " [2.39507239]]\n",
      "db = 0.001455578136784208\n",
      "cost = 5.801545319394553\n"
     ]
    }
   ],
   "source": [
    "w, b, X, Y = np.array([[1.],[2.]]), 2., np.array([[1.,2.,-1.],[3.,4.,-3.2]]).T, np.array([[1,0,1]])\n",
    "grads, cost = propagate(w, b, X, Y.reshape(-1, 1))\n",
    "print (\"dw = \" + str(grads[\"dw\"]))\n",
    "print (\"db = \" + str(grads[\"db\"]))\n",
    "print (\"cost = \" + str(cost))"
   ]
  },
  {
   "cell_type": "markdown",
   "metadata": {},
   "source": [
    "**Expected Output**:\n",
    "\n",
    "<table style=\"width:50%\">\n",
    "    <tr>\n",
    "        <td>  ** dw **  </td>\n",
    "      <td> [[ 0.99845601]\n",
    "     [ 2.39507239]]</td>\n",
    "    </tr>\n",
    "    <tr>\n",
    "        <td>  ** db **  </td>\n",
    "        <td> 0.00145557813678 </td>\n",
    "    </tr>\n",
    "    <tr>\n",
    "        <td>  ** cost **  </td>\n",
    "        <td> 5.801545319394553 </td>\n",
    "    </tr>\n",
    "\n",
    "</table>"
   ]
  },
  {
   "cell_type": "markdown",
   "metadata": {},
   "source": [
    "### Optimization\n",
    "Now that we have initialized our parameters and can compute the cost and the gradient, we can find the minimum of the loss function using gradient descent.\n",
    "\n",
    "**Exercise:** Write the optimization function. The goal is to learn $w$ and $b$ minimizing $L^{\\rm{BCE}}$. As before, for a parameter $\\theta$, the update rule is $\\theta = \\theta - \\alpha~ d\\theta$, where $\\alpha$ is the learning rate."
   ]
  },
  {
   "cell_type": "code",
   "execution_count": 30,
   "metadata": {
    "collapsed": true
   },
   "outputs": [],
   "source": [
    "def optimize(w, b, X_train, Y_train, num_iterations, learning_rate, print_cost=False, X_val=None, Y_val=None):\n",
    "    '''\n",
    "    This function minimizes the BCE loss function by running gradient descent\n",
    "    \n",
    "    Arguments:\n",
    "    w -- weights, a numpy array of size (dim(data), 1)\n",
    "    b -- bias, a scalar\n",
    "    X_train -- data of shape (number of samples, dim(data))\n",
    "    Y_train -- true label of shape (number of samples, 1)\n",
    "    num_iterations -- number of updates using the gradient, an integer\n",
    "    learning_rate -- a float which affects the update size\n",
    "    print_cost -- boolean to print the loss ever 100 steps. Default is False\n",
    "    X_val -- data of shape (number of samples, dim(data)). Default is None\n",
    "    Y_val -- true label of shape (number of samples, 1). Default is None\n",
    "    \n",
    "    If X_val and Y_val are not None, the loss is computed on the validation data\n",
    "    \n",
    "    Returns:\n",
    "    params -- dictionary containing the weights w and bias b\n",
    "    grads -- dictionary containing the gradients of the weights and bias with respect to the cost function\n",
    "    costs -- list of all the costs computed during the optimization, this will be used to plot the learning curve.\n",
    "    '''\n",
    "    \n",
    "    costs = {'train': [],\n",
    "             'validation': []\n",
    "            }\n",
    "    \n",
    "    for i in range(num_iterations):\n",
    "        \n",
    "        # cost and gradient calculation (around 1-4 lines of code)\n",
    "        ### Start code here ###\n",
    "        grads, cost = propagate(w, b, X_train, Y_train)\n",
    "        ### end code here\n",
    "        \n",
    "        # Retrieve derivatives from grads\n",
    "        dw = grads[\"dw\"]\n",
    "        db = grads[\"db\"]\n",
    "        \n",
    "        # Calculate the cost on the validation data\n",
    "        if (X_val is not None) and (Y_val is not None):\n",
    "            A_val = sigmoid(np.dot(X_val, w) + b)\n",
    "            cost_val = -np.mean(Y_val * np.log(A_val) + (1 - Y_val) * np.log(1 - A_val))\n",
    "            costs['validation'].append(cost_val)\n",
    "        # update rule (≈ 2 lines of code)\n",
    "        ### START CODE HERE ###\n",
    "        w = w - learning_rate * dw\n",
    "        b = b - learning_rate * db\n",
    "        ### END CODE HERE ###\n",
    "        \n",
    "        # Record the costs\n",
    "        costs['train'].append(cost)\n",
    "        \n",
    "        # Print the cost every 100 training iterations\n",
    "        if print_cost and i % 100 == 0:\n",
    "            print (\"Cost after iteration %i: %f\" %(i, cost))\n",
    "    \n",
    "    params = {\"w\": w,\n",
    "              \"b\": b}\n",
    "    \n",
    "    grads = {\"dw\": dw,\n",
    "             \"db\": db}\n",
    "    \n",
    "    return params, grads, costs\n",
    "        "
   ]
  },
  {
   "cell_type": "markdown",
   "metadata": {},
   "source": [
    "Test the implementation"
   ]
  },
  {
   "cell_type": "code",
   "execution_count": 31,
   "metadata": {
    "collapsed": false
   },
   "outputs": [
    {
     "name": "stdout",
     "output_type": "stream",
     "text": [
      "w = [[0.19033591]\n",
      " [0.12259159]]\n",
      "b = 1.9253598300845747\n",
      "dw = [[0.67752042]\n",
      " [1.41625495]]\n",
      "db = 0.21919450454067657\n"
     ]
    }
   ],
   "source": [
    "params, grads, costs = optimize(w, b, X, Y.reshape(-1, 1), num_iterations= 100, learning_rate = 0.009, print_cost = False)\n",
    "\n",
    "print (\"w = \" + str(params[\"w\"]))\n",
    "print (\"b = \" + str(params[\"b\"]))\n",
    "print (\"dw = \" + str(grads[\"dw\"]))\n",
    "print (\"db = \" + str(grads[\"db\"]))"
   ]
  },
  {
   "cell_type": "markdown",
   "metadata": {},
   "source": [
    "**Expected Output**: \n",
    "\n",
    "<table style=\"width:40%\">\n",
    "    <tr>\n",
    "       <td> w </td>\n",
    "       <td>[[ 0.19033591]\n",
    " [ 0.12259159]] </td>\n",
    "    </tr>\n",
    "    <tr>\n",
    "       <td> b </td>\n",
    "       <td> 1.92535983008 </td>\n",
    "    </tr>\n",
    "    <tr>\n",
    "       <td> dw </td>\n",
    "       <td> [[ 0.67752042]\n",
    " [ 1.41625495]] </td>\n",
    "    </tr>\n",
    "    <tr>\n",
    "       <td> db </td>\n",
    "       <td> 0.219194504541 </td>\n",
    "    </tr>\n",
    "\n",
    "</table>"
   ]
  },
  {
   "cell_type": "markdown",
   "metadata": {},
   "source": [
    "If those worked, we are now ready to classify our example data.\n",
    "\n",
    "**Exercise:** Train a logistic regression model on the example."
   ]
  },
  {
   "cell_type": "code",
   "execution_count": 32,
   "metadata": {
    "collapsed": true
   },
   "outputs": [],
   "source": [
    "# Initialize w and b\n",
    "w, b = initialize_zeros(2)\n",
    "\n",
    "# Optimize\n",
    "params, grads, costs = optimize(w, b, X_Train, Y_Train,\n",
    "                                num_iterations= 10000, learning_rate=5e-2,\n",
    "                                print_cost=False,\n",
    "                                X_val=X_Val, Y_val=Y_Val\n",
    "                               )"
   ]
  },
  {
   "cell_type": "code",
   "execution_count": 33,
   "metadata": {
    "collapsed": false
   },
   "outputs": [
    {
     "data": {
      "image/png": "[encoded data removed]",
      "text/plain": [
       "<Figure size 240x240 with 1 Axes>"
      ]
     },
     "metadata": {
      "needs_background": "light"
     },
     "output_type": "display_data"
    }
   ],
   "source": [
    "plt.plot(costs['train'], label='Training')\n",
    "plt.plot(costs['validation'], label='Validation', ls=':')\n",
    "plt.xlabel('Epoch')\n",
    "plt.ylabel('Loss (BCE)')\n",
    "plt.legend(loc='upper right', frameon=False)\n",
    "plt.show()"
   ]
  },
  {
   "cell_type": "markdown",
   "metadata": {},
   "source": [
    "Our training and validation losses are nearly identical, so we are not overfitting. This is expected because we are using such an easy model. Now lets plot the decision boundary found by the model. There will be a few lines of matplotlib and numpy in order to plot isocurves of constant model prediction."
   ]
  },
  {
   "cell_type": "code",
   "execution_count": 34,
   "metadata": {
    "collapsed": false
   },
   "outputs": [
    {
     "data": {
      "image/png": "[encoded data removed]",
      "text/plain": [
       "<Figure size 240x240 with 1 Axes>"
      ]
     },
     "metadata": {
      "needs_background": "light"
     },
     "output_type": "display_data"
    }
   ],
   "source": [
    "x_space = np.linspace(0, 5, 25)\n",
    "y_space = np.linspace(0, 5, 25)\n",
    "X, Y = np.meshgrid(x_space, y_space)\n",
    "Z = sigmoid(X * params['w'][0] + Y * params['w'][1] + params['b'])  # the 1 - sigmoid just gets the numbering right for the color map below\n",
    "\n",
    "plt.contourf(X, Y, 1-Z, 25, cmap='bwr')\n",
    "CS = plt.contour(X, Y, Z, [0.1, 0.5, 0.9], colors='k')\n",
    "plt.clabel(CS, inline=1, fontsize=12)\n",
    "plt.xlim(-0.05, 5.05)\n",
    "plt.ylim(-0.05, 5.05)\n",
    "plt.minorticks_on()\n",
    "plt.xlabel('$x_1$')\n",
    "plt.ylabel('$x_2$')\n",
    "plt.show()"
   ]
  },
  {
   "cell_type": "markdown",
   "metadata": {},
   "source": [
    "Our linear model draws straight lines through the space. The nominal decision boundard is when the output it $\\ge 0.5$, in which case it is more likely to be signal than background. How does this match up with out test data?"
   ]
  },
  {
   "cell_type": "code",
   "execution_count": 35,
   "metadata": {
    "collapsed": false
   },
   "outputs": [
    {
     "data": {
      "image/png": "[encoded data removed]",
      "text/plain": [
       "<Figure size 240x240 with 1 Axes>"
      ]
     },
     "metadata": {
      "needs_background": "light"
     },
     "output_type": "display_data"
    }
   ],
   "source": [
    "plt.scatter(X_Test[Y_Test.ravel()==1, 0], X_Test[Y_Test.ravel()==1, 1], color='b', s=9, alpha=0.5)\n",
    "plt.scatter(X_Test[Y_Test.ravel()==0, 0], X_Test[Y_Test.ravel()==0, 1], color='r', s=9, alpha=0.5)\n",
    "CS = plt.contour(X, Y, Z, [0.1, 0.5, 0.9], colors='k')\n",
    "plt.clabel(CS, inline=1, fontsize=12)\n",
    "plt.xlim(-0.05, 5.05)\n",
    "plt.ylim(-0.05, 5.05)\n",
    "plt.minorticks_on()\n",
    "plt.xlabel('$x_1$')\n",
    "plt.ylabel('$x_2$')\n",
    "plt.show()"
   ]
  },
  {
   "cell_type": "markdown",
   "metadata": {},
   "source": [
    "If we look at the data with score to the left of the 0.9 line, we see that most of them are blue, likewise, most of the data to the right of the 0.1 line is red. The areas that the model is confident in do well. However, there are many misclassified points inbetween.\n",
    "\n",
    "**Optional Exercise:**\n",
    "With what we have, we can easily add in more parameters to get a better fit. For instance, we may think that there should be some curvature to the decision boundary. Using the [scikit-learn](https://scikit-learn.org/stable/index.html) package, we can add in all of the quadratic (or higher) terms. Specifically, look up the [PolynomialFeatures](https://scikit-learn.org/stable/modules/generated/sklearn.preprocessing.PolynomialFeatures.html#sklearn.preprocessing.PolynomialFeatures)"
   ]
  },
  {
   "cell_type": "code",
   "execution_count": 36,
   "metadata": {
    "collapsed": true
   },
   "outputs": [],
   "source": [
    "from sklearn.preprocessing import PolynomialFeatures\n",
    "poly = PolynomialFeatures(2, include_bias=False)"
   ]
  },
  {
   "cell_type": "code",
   "execution_count": 37,
   "metadata": {
    "collapsed": false
   },
   "outputs": [
    {
     "name": "stdout",
     "output_type": "stream",
     "text": [
      "(1000, 5)\n"
     ]
    }
   ],
   "source": [
    "X_Quadratic_Train = poly.fit_transform(X_Train)\n",
    "print(X_Quadratic_Train.shape)"
   ]
  },
  {
   "cell_type": "code",
   "execution_count": 38,
   "metadata": {
    "collapsed": true
   },
   "outputs": [],
   "source": [
    "X_Quadratic_Test = poly.transform(X_Test)\n",
    "X_Quadratic_Validatoin = poly.transform(X_Val)"
   ]
  },
  {
   "cell_type": "code",
   "execution_count": 39,
   "metadata": {
    "collapsed": true
   },
   "outputs": [],
   "source": [
    "# Initialize w and b\n",
    "wquad, bquad = initialize_zeros(5)\n",
    "\n",
    "# Optimize\n",
    "paramsquad, gradsquad, costsquad = optimize(wquad, bquad,\n",
    "                                            X_Quadratic_Train, Y_Train,\n",
    "                                            num_iterations=10000,\n",
    "                                            learning_rate=5e-2,\n",
    "                                            print_cost=False,\n",
    "                                            X_val=X_Quadratic_Validatoin,\n",
    "                                            Y_val=Y_Val\n",
    "                                           )"
   ]
  },
  {
   "cell_type": "code",
   "execution_count": 40,
   "metadata": {
    "collapsed": false
   },
   "outputs": [
    {
     "data": {
      "image/png": "[encoded data removed]",
      "text/plain": [
       "<Figure size 480x240 with 2 Axes>"
      ]
     },
     "metadata": {
      "needs_background": "light"
     },
     "output_type": "display_data"
    }
   ],
   "source": [
    "Z = []\n",
    "for x1 in x_space:\n",
    "    zs = []\n",
    "    for x2 in y_space:\n",
    "        data = poly.transform([[x1, x2]])\n",
    "        zs.append(float(sigmoid(np.dot(data, paramsquad['w']) + paramsquad['b']).flatten()[0]))\n",
    "    Z.append(zs)\n",
    "Z = np.array(Z)\n",
    "\n",
    "plt.figure(figsize=(6, 3))\n",
    "\n",
    "plt.subplot(1, 2, 1)\n",
    "plt.contourf(X, Y, 1-Z, 25, cmap='bwr')\n",
    "CS = plt.contour(X, Y, Z, [0.1, 0.5, 0.9], colors='k')\n",
    "plt.clabel(CS, inline=1, fontsize=12)\n",
    "plt.xlim(-0.0, 5.0)\n",
    "plt.ylim(-0.0, 5.0)\n",
    "plt.minorticks_on()\n",
    "plt.xlabel('$x_1$')\n",
    "plt.ylabel('$x_2$')\n",
    "\n",
    "plt.subplot(1, 2, 2)\n",
    "plt.scatter(X_Test[Y_Test.ravel()==1, 0], X_Test[Y_Test.ravel()==1, 1], color='b', s=9, alpha=0.5)\n",
    "plt.scatter(X_Test[Y_Test.ravel()==0, 0], X_Test[Y_Test.ravel()==0, 1], color='r', s=9, alpha=0.5)\n",
    "CS = plt.contour(X, Y, Z, [0.1, 0.5, 0.9], colors='k')\n",
    "plt.clabel(CS, inline=1, fontsize=12)\n",
    "plt.xlim(-0.0, 5.0)\n",
    "plt.ylim(-0.0, 5.0)\n",
    "plt.minorticks_on()\n",
    "plt.xlabel('$x_1$')\n",
    "plt.ylabel('$x_2$')\n",
    "\n",
    "plt.tight_layout(w_pad=2)"
   ]
  },
  {
   "cell_type": "code",
   "execution_count": 41,
   "metadata": {
    "collapsed": false
   },
   "outputs": [
    {
     "data": {
      "image/png": "[encoded data removed]",
      "text/plain": [
       "<Figure size 480x240 with 2 Axes>"
      ]
     },
     "metadata": {
      "needs_background": "light"
     },
     "output_type": "display_data"
    }
   ],
   "source": [
    "plt.figure(figsize=(6, 3))\n",
    "\n",
    "ax0 = plt.subplot(1, 2, 1)\n",
    "plt.plot(costs['train'], label='Training')\n",
    "plt.plot(costs['validation'], label='Validation', ls=':')\n",
    "plt.xlabel('Epoch')\n",
    "plt.ylabel('Loss (BCE)')\n",
    "plt.legend(loc='upper right', frameon=False)\n",
    "plt.title('Only Linear')\n",
    "\n",
    "plt.subplot(1, 2, 2, sharey=ax0)\n",
    "plt.plot(costsquad['train'], label='Training')\n",
    "plt.plot(costsquad['validation'], label='Validation', ls=':')\n",
    "plt.xlabel('Epoch')\n",
    "plt.ylabel('Loss (BCE)')\n",
    "plt.legend(loc='upper right', frameon=False)\n",
    "plt.title('All Quadratic')\n",
    "\n",
    "plt.tight_layout(w_pad=2)"
   ]
  },
  {
   "cell_type": "markdown",
   "metadata": {},
   "source": [
    "Note that the overall loss lower when the quadratic terms are added, and there is still no overfitting. As a side note, it also trains faster. How do we know when to stop adding in new features? Part of the revolultion in machine learning is that we let the machine choose which features it wants. This will be discussed in the next section, where we build our first neural network to fit the same data.\n",
    "\n",
    "Also note, scikit-learn has [linear regression](https://scikit-learn.org/stable/modules/generated/sklearn.linear_model.LinearRegression.html) and [logistic regression](https://scikit-learn.org/stable/modules/generated/sklearn.linear_model.LogisticRegression.html) already programmed in."
   ]
  },
  {
   "cell_type": "markdown",
   "metadata": {},
   "source": [
    "# Introduction to Neural Networks"
   ]
  },
  {
   "cell_type": "markdown",
   "metadata": {},
   "source": [
    "So far, out models have gone straight from the input to the output using matrix multiplication and an activation function. By adding an extra layer, we can use the same methodology to make a nerual network. The layer between the input and the output can be viewed as an extra vector, so an initial matrix goes from the inputs to the dimension of the new vector. Then a second matrix goes from the vector to the final answer. This layer is also called a **Hidden Layer**.\n",
    "\n",
    "To add more notation, we will now use superscript brackets to denote the layer number. So the inputs are $X^{[0]j}_i$. The first weight vector, $W^{[1]}$ takes the input to the vector $z^{[1]}$. The explicit equations are:\n",
    "\n",
    "\\begin{eqnarray}\n",
    "z^{[1]}_{i} &=& X_i \\cdot W^{[1]} + b^{[1]} \\\\\n",
    "a^{[1]}_{i} &=& \\sigma\\big(z^{[1]}_{i} \\big) \\\\\n",
    "z^{[2]}_{i} &=& a^{[1]}_i \\cdot W^{[2]} + b^{[2]} \\\\\n",
    "y^{\\rm{pred}}_i = a^{[2]}_i &=& \\sigma \\big( z^{[2]} \\big)\n",
    "\\end{eqnarray}\n",
    "\n",
    "Now we have to minimize the loss over $W^{[1]}, W^{[2]}, b^{[1]}, b^{[2]}$, where the loss is given by\n",
    "\\begin{equation}\n",
    "L^{BCE} = -\\frac{1}{N} \\sum_{i=1}^{N} \\bigg( y_i \\log a^{[2]}_i + \\big(1-y_i \\big) \\log\\big(1-a^{[2]}_i \\big) \\bigg)\n",
    "\\end{equation}"
   ]
  },
  {
   "cell_type": "markdown",
   "metadata": {},
   "source": [
    "Working out the individual gradients gives\n",
    "\\begin{eqnarray}\n",
    "\\frac{\\partial z^{[1]}_i}{\\partial W^{[1]}} &=& X_i \\\\\n",
    "\\frac{\\partial z^{[1]}_i}{\\partial b^{[1]}} &=& 1 \\\\\n",
    "\\frac{\\partial a^{[1]}_i}{\\partial z^{[1]}_i} &=& a^{[1]}_i \\big(1-a^{[1]}_i \\big) \\\\\n",
    "& \\rm{and} & \\\\\n",
    "\\frac{\\partial z^{[2]}_i}{\\partial W^{[2]}} &=& a^{[1]}_i \\\\\n",
    "\\frac{\\partial z^{[2]}_i}{\\partial b^{[2]}} &=& 1 \\\\\n",
    "\\frac{\\partial a^{[2]}_i}{\\partial z^{[2]}_i} &=& a^{[2]}_i \\big(1-a^{[2]}_i \\big)\n",
    "\\end{eqnarray}"
   ]
  },
  {
   "cell_type": "markdown",
   "metadata": {},
   "source": [
    "With these partial derivatives, we can use the chain rule to get\n",
    "\\begin{eqnarray}\n",
    "\\frac{\\partial L}{\\partial W^{[2]}} &=& \\frac{\\partial L}{\\partial a^{[2]}_i}\\frac{\\partial a^{[2]}_i}{\\partial z^{[2]}_i} \\frac{\\partial z^{[2]}_i}{\\partial W^{[2]}} \\\\\n",
    "&=& -\\frac{1}{N} \\sum_{i=1}^N \\bigg(\\frac{y_i}{a^{[2]}_i} - \\frac{1-y_i}{1-a^{[2]}_i} \\bigg) \\bigg(a^{[2]}_i \\big(1-a^{[2]}_i\\big) \\bigg) a^{[1]}_i \\\\\n",
    "&=& -\\frac{1}{N} \\sum_{i=1}^N \\big(y - a^{[2]}_i \\big) a^{[1]}_i\n",
    "\\end{eqnarray}\n",
    "\n",
    "and\n",
    "\n",
    "\\begin{eqnarray}\n",
    "\\frac{\\partial L}{\\partial b^{[2]}} &=&\n",
    "\\frac{\\partial L}{\\partial a^{[2]}_i}\n",
    "\\frac{\\partial a^{[2]}_i}{\\partial z^{[2]}_i}\n",
    "\\frac{\\partial z^{[2]}_i}{\\partial b^{[2]}} \\\\\n",
    "&=&\n",
    "-\\frac{1}{N} \\sum_{i=1}^N \\bigg(\\frac{y_i}{a^{[2]}_i} - \\frac{1-y_i}{1-a^{[2]}_i} \\bigg) \\bigg(a^{[2]}_i \\big(1-a^{[2]}_i\\big) \\bigg)  \\\\\n",
    "&=& -\\frac{1}{N} \\sum_{i=1}^N \\big(y - a^{[2]}_i \\big)\n",
    "\\end{eqnarray}"
   ]
  },
  {
   "cell_type": "markdown",
   "metadata": {},
   "source": [
    "Which are similar to what we had for the simple logistic regression. Now we step back to get the gradients for the $^{[1]}$ elements.\n",
    "\n",
    "\\begin{eqnarray}\n",
    "\\frac{\\partial L}{\\partial W^{[1]}} &=& \\frac{\\partial L}{\\partial a^{[2]}_i}\\frac{\\partial a^{[2]}_i}{\\partial z^{[2]}_i} \\frac{\\partial z^{[2]}_i}{\\partial a^{[1]}_i}\\frac{\\partial a^{[1]}_i}{\\partial z^{[1]}_i} \\frac{\\partial z^{[1]}_i}{\\partial W^{[1]}} \\\\\n",
    "%\n",
    "&=& -\\frac{1}{N} \\sum_{i=1}^N \\bigg(\\frac{y_i}{a^{[2]}_i} - \\frac{1-y_i}{1-a^{[2]}_i} \\bigg) \\bigg(a^{[2]}_i \\big(1-a^{[2]}_i\\big) \\bigg)\n",
    "\\bigg(W^{[2]} \\bigg)\n",
    "\\bigg(a^{[1]}_i \\big(1-a^{[1]}_i\\big) \\bigg)\n",
    "X_i \\\\\n",
    "%\n",
    "&=& -\\frac{1}{N} \\sum_{i=1}^N \\bigg(y_i - a^{[2]}_i \\bigg)\n",
    "\\bigg(W^{[2]} \\bigg)\n",
    "\\bigg(a^{[1]}_i \\big(1-a^{[1]}_i\\big) \\bigg)\n",
    "X_i\n",
    "\\end{eqnarray}\n",
    "\n",
    "Similarly,\n",
    "\\begin{eqnarray}\n",
    "\\frac{\\partial L}{\\partial b^{[1]}} &=&\n",
    "\\frac{\\partial L}{\\partial a^{[2]}_i}\n",
    "\\frac{\\partial a^{[2]}_i}{\\partial z^{[2]}_i}\n",
    "\\frac{\\partial z^{[2]}_i}{\\partial a^{[1]}_i}\n",
    "\\frac{\\partial a^{[1]}_i}{\\partial z^{[1]}_i}\n",
    "\\frac{\\partial z^{[1]}_i}{\\partial b^{[1]}} \\\\\n",
    "%\n",
    "&=& -\\frac{1}{N} \\sum_{i=1}^N \\bigg(y_i - a^{[2]}_i \\bigg)\n",
    "\\bigg(W^{[2]} \\bigg)\n",
    "\\bigg(a^{[1]}_i \\big(1-a^{[1]}_i\\big) \\bigg)\n",
    "\\end{eqnarray}"
   ]
  },
  {
   "cell_type": "markdown",
   "metadata": {},
   "source": [
    "While this was more detail than probably necessary, it is seeing the chain of partial derivatives is part of what has lead to the increased performance in machine learning. Keeping track of each partial derivative and the local values for the $a$ make these relatively easy. Note that we will have to be careful with our matrix multiplications, and may need to transpose from time to time."
   ]
  },
  {
   "cell_type": "markdown",
   "metadata": {},
   "source": [
    "### Initialize the parameters\n",
    "Now that we know what paramters we want to use, we need to intialize them into memory. Earlier, we set all of the initial parameters to 0, this does not work with hidden layers, so instead we will randomly initialize.\n",
    "- Use `np.random.randn(a,b) * 0.01` to randomly initialize a matrix of shape (a,b)\n",
    "- Our input data will just be the two components.\n",
    "- The biases can still be normalized to 0.\n",
    "\n",
    "**Exercise:** Implement the initialize_random_parameters() function."
   ]
  },
  {
   "cell_type": "code",
   "execution_count": 42,
   "metadata": {
    "collapsed": true
   },
   "outputs": [],
   "source": [
    "def initialize_random_parameters(n_x, n_h):\n",
    "    '''\n",
    "    Arguments:\n",
    "    n_x -- size of the input data\n",
    "    n_h -- size of the hidden layer\n",
    "    \n",
    "    Returns:\n",
    "    params -- python dictionary containg the parameters:\n",
    "        W1 -- weight matrix of shape (n_x, n_h)\n",
    "        b1 -- bias vector of shape (1, n_h)\n",
    "        W2 -- weight matrix of shape (n_h, 1)\n",
    "        b2 -- bias of shape (1, 1) or a scalar\n",
    "    '''\n",
    "    np.random.seed(42)  # For reproducible results\n",
    "    \n",
    "    ### Start code here ###\n",
    "    W1 = np.random.randn(n_x, n_h) * 0.01\n",
    "    b1 = np.zeros([1, n_h])\n",
    "    W2 = np.random.randn(n_h, 1) * 0.01\n",
    "    b2 = np.zeros([1, 1])\n",
    "    ### End code here ###\n",
    "    \n",
    "    assert (W1.shape == (n_x, n_h))\n",
    "    assert (b1.shape == (1, n_h))\n",
    "    assert (W2.shape == (n_h, 1))\n",
    "    assert (b2.shape == (1, 1))\n",
    "    \n",
    "    parameters = {\"W1\": W1,\n",
    "                  \"b1\": b1,\n",
    "                  \"W2\": W2,\n",
    "                  \"b2\": b2}\n",
    "    \n",
    "    return parameters"
   ]
  },
  {
   "cell_type": "markdown",
   "metadata": {},
   "source": [
    "Check the implementation"
   ]
  },
  {
   "cell_type": "code",
   "execution_count": 43,
   "metadata": {
    "collapsed": false
   },
   "outputs": [
    {
     "name": "stdout",
     "output_type": "stream",
     "text": [
      "W1 = [[ 0.00496714 -0.00138264  0.00647689  0.0152303 ]\n",
      " [-0.00234153 -0.00234137  0.01579213  0.00767435]]\n",
      "b1 = [[0. 0. 0. 0.]]\n",
      "W2 = [[-0.00469474]\n",
      " [ 0.0054256 ]\n",
      " [-0.00463418]\n",
      " [-0.0046573 ]]\n",
      "b2 = [[0.]]\n"
     ]
    }
   ],
   "source": [
    "parameters = initialize_random_parameters(2, 4)\n",
    "print(\"W1 = \" + str(parameters[\"W1\"]))\n",
    "print(\"b1 = \" + str(parameters[\"b1\"]))\n",
    "print(\"W2 = \" + str(parameters[\"W2\"]))\n",
    "print(\"b2 = \" + str(parameters[\"b2\"]))"
   ]
  },
  {
   "cell_type": "markdown",
   "metadata": {},
   "source": [
    "**Expected output:**\n",
    "\n",
    "W1 | [[ 0.00496714 -0.00138264  0.00647689  0.0152303 ][-0.00234153 -0.00234137  0.01579213  0.00767435]] |\n",
    "------|------|\n",
    "b1 |  [[0. 0. 0. 0.]]|\n",
    "W2 | [[-0.00469474][ 0.0054256 ][-0.00463418][-0.0046573 ]]|\n",
    "b2 | [[0.]]|"
   ]
  },
  {
   "cell_type": "markdown",
   "metadata": {},
   "source": [
    "### The loop\n",
    "**Excercise:** Implment the forward_propagation step.\n",
    "\n",
    "**Hints:**\n",
    "* Use the definitions from above\n",
    "* Need to use the paramters from the output of the initialize funciton, i.e. parameter['..']\n",
    "* Values need for the backpropagation are stored in 'cache'"
   ]
  },
  {
   "cell_type": "code",
   "execution_count": 44,
   "metadata": {
    "collapsed": true
   },
   "outputs": [],
   "source": [
    "# Added this function in later, it is discussed at the end of the tutorial\n",
    "def relu(z):\n",
    "    return z * (z > 0)"
   ]
  },
  {
   "cell_type": "code",
   "execution_count": 45,
   "metadata": {
    "collapsed": true
   },
   "outputs": [],
   "source": [
    "def forward_propagation(X, parameters):\n",
    "    \"\"\"\n",
    "    Argument:\n",
    "    X -- input data of size (n_samples, n_x)\n",
    "    parameters -- python dictionary containing your parameters (output of initialization function)\n",
    "    \n",
    "    Returns:\n",
    "    A2 -- The sigmoid output of the second activation\n",
    "    cache -- a dictionary containing \"Z1\", \"A1\", \"Z2\" and \"A2\"\n",
    "    \"\"\"\n",
    "    # Retrieve each parameter from the dictionary \"parameters\"\n",
    "    ### START CODE HERE ### (≈ 4 lines of code)\n",
    "    W1 = parameters['W1']\n",
    "    b1 = parameters['b1']\n",
    "    W2 = parameters['W2']\n",
    "    b2 = parameters['b2']\n",
    "    ### END CODE HERE ###\n",
    "    \n",
    "    # Implement Forward Propagation to calculate A2 (probabilities)\n",
    "    ### START CODE HERE ### (≈ 4 lines of code)\n",
    "    Z1 = np.dot(X, W1) + b1\n",
    "    # Only uncomment one of the next three lines\n",
    "    A1 = sigmoid(Z1)    # For using the sigmoid activation function\n",
    "#     A1 = np.tanh(Z1)  # For using the tanh activation function\n",
    "#     A1 = relu(Z1)     # For using the relu acrivation function\n",
    "    Z2 = np.dot(A1, W2) + b2\n",
    "    A2 = sigmoid(Z2)\n",
    "    ### END CODE HERE ###\n",
    "    \n",
    "#     print(A2.shape)\n",
    "#     print((X.shape[0], 1))\n",
    "#     assert(A2.shape == (X.shape[0], 1))\n",
    "    \n",
    "    cache = {\"Z1\": Z1,\n",
    "             \"A1\": A1,\n",
    "             \"Z2\": Z2,\n",
    "             \"A2\": A2}\n",
    "    \n",
    "    return A2, cache"
   ]
  },
  {
   "cell_type": "markdown",
   "metadata": {},
   "source": [
    "Test the implementation"
   ]
  },
  {
   "cell_type": "code",
   "execution_count": 46,
   "metadata": {
    "collapsed": false
   },
   "outputs": [
    {
     "name": "stdout",
     "output_type": "stream",
     "text": [
      "0.005467349042875904 0.5013668146565611 -0.004311049213484426 0.49892223936583624\n"
     ]
    }
   ],
   "source": [
    "X_assess = np.array([[0.14092422, 0.80219698],\n",
    "                     [0.07455064, 0.98688694],\n",
    "                     [0.77224477, 0.19871568],\n",
    "                     [0.00552212, 0.81546143],\n",
    "                     [0.70685734, 0.72900717]])\n",
    "A2, cache = forward_propagation(X_assess, parameters)\n",
    "# print('A2: ', A2)\n",
    "print(np.mean(cache['Z1']) ,np.mean(cache['A1']),np.mean(cache['Z2']),np.mean(cache['A2']))"
   ]
  },
  {
   "cell_type": "markdown",
   "metadata": {},
   "source": [
    "**Expected Output**\n",
    "\n",
    "[0.005467349042875904 0.5013668146565611 -0.004311049213484426 0.49892223936583624]\n",
    "\n",
    "### Loss\n",
    "Now that we have $a^{[2]}$ for all of the examples, we can compute the loss.\n",
    "\n",
    "**Exercise:**\n",
    "Implement the BCE loss function using the with inputs of `Y, A2, parameters`."
   ]
  },
  {
   "cell_type": "code",
   "execution_count": 47,
   "metadata": {
    "collapsed": true
   },
   "outputs": [],
   "source": [
    "def calculate_loss(Y, A2, parameters):\n",
    "    '''\n",
    "    Computes the binary cross entroy loss\n",
    "    \n",
    "    Arguments:\n",
    "    Y -- Truth labels vector of size (n_Samples, 1)\n",
    "    A2 -- The sigmoid output of the second activation, shape (n_Samples, 1)\n",
    "    parameters -- python dictionary containing W1, b1, W2, b2\n",
    "    \n",
    "    Returns:\n",
    "    cost -- BCE, scalar\n",
    "    '''\n",
    "    \n",
    "    N = Y.shape[0]  # n_samples\n",
    "    \n",
    "    # Compute the cross entropy\n",
    "    ### Start code here ###\n",
    "    loss = - np.sum(Y * np.log(A2) + (1 - Y) * np.log(1 - A2)) / N\n",
    "    \n",
    "    ### End code here ###\n",
    "    \n",
    "    loss = np.squeeze(loss)\n",
    "    \n",
    "    assert(isinstance(loss, float))\n",
    "    \n",
    "    return loss"
   ]
  },
  {
   "cell_type": "markdown",
   "metadata": {},
   "source": [
    "Test the implementation"
   ]
  },
  {
   "cell_type": "code",
   "execution_count": 48,
   "metadata": {
    "collapsed": false
   },
   "outputs": [
    {
     "name": "stdout",
     "output_type": "stream",
     "text": [
      "cost = 0.6927166002914666\n"
     ]
    }
   ],
   "source": [
    "A2, cache = forward_propagation(X_assess, parameters)\n",
    "Y_assess = np.array([[0], [1], [0], [1], [0]])\n",
    "print(\"cost = \" + str(calculate_loss(Y_assess, A2, parameters)))"
   ]
  },
  {
   "cell_type": "markdown",
   "metadata": {},
   "source": [
    "**Expected Output**\n",
    "\n",
    "cost  | 0.6927166002914666\n",
    "\n",
    "### Backpropagation\n",
    "Once the cost has been calculated, we are ready to do the backprop step, using the saved `cahce` to compute the gradients.\n",
    "\n",
    "**Exercise:** Implement the backward_propagation to compute the gradients."
   ]
  },
  {
   "cell_type": "code",
   "execution_count": 49,
   "metadata": {
    "collapsed": true
   },
   "outputs": [],
   "source": [
    "def backward_propagation(parameters, cache, X, Y):\n",
    "    '''\n",
    "    Computes the gradients\n",
    "    \n",
    "    Arguments:\n",
    "    parameters -- python dictionary containing W1,b1,W2,b2\n",
    "    cache -- python dictionary containing Z1, A1, Z2, A2\n",
    "    X -- input data of shape (n_samples, n_x)\n",
    "    Y -- true labels of shape (n_samples, 1)\n",
    "    \n",
    "    Returns:\n",
    "    grads -- python dictionary containing the gradients with respect to W1,b1,W2,b2\n",
    "    '''\n",
    "    \n",
    "    N = X.shape[0]  # n_samples\n",
    "    \n",
    "    # First, pull values out of dictionary parameters\n",
    "    ### Start code here ###\n",
    "    W1 = parameters['W1']\n",
    "    W2 = parameters['W2']\n",
    "    ### End code here ###\n",
    "    \n",
    "    # Get the values of A1 and A2\n",
    "    ### Start code here ###\n",
    "    A1 = cache['A1']\n",
    "    A2 = cache['A2']\n",
    "    ### End code here ###\n",
    "    \n",
    "    # Compute gradients (hint use chain rule)\n",
    "    ### Start code here \n",
    "    dLdZ2 = -(Y - A2) / N  # shape (n_samples, 1): A1 has shape (n_samples, n_h)\n",
    "    dW2 = np.dot(A1.T, dLdZ2)       # needs to be shape (nh, 1)\n",
    "    db2 = np.sum(dLdZ2)\n",
    "    \n",
    "    # partial derivative with respect to Z1\n",
    "    # only uncomment one of the next three lines\n",
    "    dZ1 = np.outer(dLdZ2, W2.T) * A1 * (1 - A1) # If we used the Sigmoid activation function above\n",
    "#     dZ1 = np.outer(dLdZ2, W2.T) * (1 - A1**2) # If we used the tanh activation function above\n",
    "#     dZ1 = np.outer(dLdZ2, W2.T) * (A1 > 0)    # If we used the relu activation finction above\n",
    "    \n",
    "\n",
    "\n",
    "    dW1 = np.dot(X.T, dZ1) # needs to be shape (n_x, n_h)\n",
    "    db1 = np.sum(dZ1, axis=0, keepdims=True)\n",
    "    ### END CODE HERE ###\n",
    "    assert(dW2.shape == W2.shape)\n",
    "    assert(dW1.shape == W1.shape)\n",
    "    assert(db1.shape == parameters['b1'].shape)\n",
    "    \n",
    "    \n",
    "    grads = {\"dW1\": dW1,\n",
    "             \"db1\": db1,\n",
    "             \"dW2\": dW2,\n",
    "             \"db2\": db2}\n",
    "    \n",
    "    return grads    "
   ]
  },
  {
   "cell_type": "code",
   "execution_count": 50,
   "metadata": {
    "collapsed": true
   },
   "outputs": [],
   "source": [
    "parameters = initialize_random_parameters(2, 4)\n",
    "X_assess = np.array([[0.14092422, 0.80219698],\n",
    "                     [0.07455064, 0.98688694],\n",
    "                     [0.77224477, 0.19871568],\n",
    "                     [0.00552212, 0.81546143],\n",
    "                     [0.70685734, 0.72900717]])\n",
    "Y_assess = np.array([[0], [1], [0], [1], [0]])\n",
    "A2, cache = forward_propagation(X_assess, parameters)\n",
    "grads = backward_propagation(parameters, cache, X_assess, Y_assess)"
   ]
  },
  {
   "cell_type": "markdown",
   "metadata": {},
   "source": [
    "### Update parameters\n",
    "Now we need to update the parameters as $\\theta = \\theta - \\alpha \\frac{\\partial L}{\\partial\\theta}$."
   ]
  },
  {
   "cell_type": "code",
   "execution_count": 51,
   "metadata": {
    "collapsed": true
   },
   "outputs": [],
   "source": [
    "def update_parameters(parameters, grads, learning_rate = 1.0):\n",
    "    '''\n",
    "    Updates the parameters using theta = theta - lr * dtheta\n",
    "    \n",
    "    Arguments:\n",
    "    parameters -- python dictionary containing W1,b1,W2,b2\n",
    "    grads -- python dictionary containing dW1,db1,dW2,db2\n",
    "    learning_rate -- float, step size (default is 1.0)\n",
    "    \n",
    "    Outputs:\n",
    "    parameters -- python dictionary containing W1,b1,W2,b2\n",
    "    '''\n",
    "    \n",
    "    # Retrieve parameters\n",
    "    ### Start code here ###\n",
    "    W1 = parameters['W1']\n",
    "    b1 = parameters['b1']\n",
    "    W2 = parameters['W2']\n",
    "    b2 = parameters['b2']\n",
    "    ### End code here ###\n",
    "    \n",
    "    # Get gradients\n",
    "    ### Start code here\n",
    "    dW1 = grads['dW1']\n",
    "    db1 = grads['db1']\n",
    "    dW2 = grads['dW2']\n",
    "    db2 = grads['db2']\n",
    "    ### End code here ###\n",
    "    \n",
    "    # Update rule for each parameter\n",
    "    ### START CODE HERE ### (≈ 4 lines of code)\n",
    "    W1 = W1 - learning_rate * dW1\n",
    "    b1 = b1 - learning_rate * db1\n",
    "    W2 = W2 - learning_rate * dW2\n",
    "    b2 = b2 - learning_rate * db2\n",
    "    ### END CODE HERE ###\n",
    "    \n",
    "    parameters = {\"W1\": W1,\n",
    "                  \"b1\": b1,\n",
    "                  \"W2\": W2,\n",
    "                  \"b2\": b2}\n",
    "    \n",
    "    return parameters"
   ]
  },
  {
   "cell_type": "code",
   "execution_count": 52,
   "metadata": {
    "collapsed": false
   },
   "outputs": [
    {
     "name": "stdout",
     "output_type": "stream",
     "text": [
      "W1 = [[ 0.00514745 -0.00159102  0.00665486  0.01540916]\n",
      " [-0.00235093 -0.00233051  0.01578286  0.00766502]]\n",
      "b1 = [[ 0.0001161  -0.00013418  0.0001146   0.00011517]]\n",
      "W2 = [[-0.05435132]\n",
      " [-0.0439871 ]\n",
      " [-0.05431245]\n",
      " [-0.054688  ]]\n",
      "b2 = [[-0.09892224]]\n"
     ]
    }
   ],
   "source": [
    "parameters = update_parameters(parameters, grads)\n",
    "\n",
    "print(\"W1 = \" + str(parameters[\"W1\"]))\n",
    "print(\"b1 = \" + str(parameters[\"b1\"]))\n",
    "print(\"W2 = \" + str(parameters[\"W2\"]))\n",
    "print(\"b2 = \" + str(parameters[\"b2\"]))"
   ]
  },
  {
   "cell_type": "markdown",
   "metadata": {},
   "source": [
    "**Expected output**\n",
    "\n",
    "\n",
    "### Put it all together\n",
    "**Exercise:**\n",
    "Build a neural network model."
   ]
  },
  {
   "cell_type": "code",
   "execution_count": 53,
   "metadata": {
    "collapsed": true
   },
   "outputs": [],
   "source": [
    "def nn_model(X, Y, n_h, num_iterations=10000, validaion_data=None, learning_rate=1e-2, print_loss=False):\n",
    "    \"\"\"\n",
    "    Arguments:\n",
    "    X -- dataset of shape (number of examples, dim)\n",
    "    Y -- labels of shape (number of examples, 1)\n",
    "    n_h -- size of the hidden layer\n",
    "    num_iterations -- Number of iterations in gradient descent loop\n",
    "    \n",
    "    Returns:\n",
    "    parameters -- parameters learned by the model. They can then be used to predict.\n",
    "    \"\"\"\n",
    "    \n",
    "    losses = {'train': [],\n",
    "              'validation': []\n",
    "             }\n",
    "    # initialize parameters\n",
    "    n_x = X.shape[1]\n",
    "    parameters = initialize_random_parameters(n_x, n_h)\n",
    "    print(parameters)\n",
    "    \n",
    "    for i in range(num_iterations):\n",
    "        # Forward propagation\n",
    "        A2, cache = forward_propagation(X, parameters)\n",
    "        \n",
    "        # Compute loss\n",
    "        loss = calculate_loss(Y, A2, parameters)\n",
    "        losses['train'].append(loss)\n",
    "        \n",
    "        if validaion_data is not None:\n",
    "            x_val = validaion_data[0]\n",
    "            y_val = validaion_data[1]\n",
    "            A2_val, _ = forward_propagation(x_val, parameters)\n",
    "            loss_val = calculate_loss(y_val, A2_val, parameters)\n",
    "            losses['validation'].append(loss_val)\n",
    "        \n",
    "        # Back propagation\n",
    "        grads = backward_propagation(parameters, cache, X, Y)\n",
    "        \n",
    "        # Update parameters\n",
    "        parameters = update_parameters(parameters, grads, learning_rate=learning_rate)\n",
    "        \n",
    "        if (print_loss) and (i % 1000 == 0):\n",
    "            print('Loss after {0:04d} of {1:05d} iterations: {2:0.3e}'.format(i,\n",
    "                                                                              num_iterations,\n",
    "                                                                              loss)\n",
    "                 )\n",
    "            \n",
    "    return parameters, losses"
   ]
  },
  {
   "cell_type": "code",
   "execution_count": 54,
   "metadata": {
    "collapsed": false
   },
   "outputs": [
    {
     "name": "stdout",
     "output_type": "stream",
     "text": [
      "{'W1': array([[ 0.00496714, -0.00138264,  0.00647689,  0.0152303 ],\n",
      "       [-0.00234153, -0.00234137,  0.01579213,  0.00767435]]), 'b1': array([[0., 0., 0., 0.]]), 'W2': array([[-0.00469474],\n",
      "       [ 0.0054256 ],\n",
      "       [-0.00463418],\n",
      "       [-0.0046573 ]]), 'b2': array([[0.]])}\n",
      "Loss after 0000 of 100000 iterations: 6.933e-01\n",
      "Loss after 1000 of 100000 iterations: 6.882e-01\n",
      "Loss after 2000 of 100000 iterations: 6.790e-01\n",
      "Loss after 3000 of 100000 iterations: 6.521e-01\n",
      "Loss after 4000 of 100000 iterations: 6.145e-01\n",
      "Loss after 5000 of 100000 iterations: 5.770e-01\n",
      "Loss after 6000 of 100000 iterations: 5.407e-01\n",
      "Loss after 7000 of 100000 iterations: 5.056e-01\n",
      "Loss after 8000 of 100000 iterations: 4.728e-01\n",
      "Loss after 9000 of 100000 iterations: 4.434e-01\n",
      "Loss after 10000 of 100000 iterations: 4.178e-01\n",
      "Loss after 11000 of 100000 iterations: 3.962e-01\n",
      "Loss after 12000 of 100000 iterations: 3.781e-01\n",
      "Loss after 13000 of 100000 iterations: 3.632e-01\n",
      "Loss after 14000 of 100000 iterations: 3.509e-01\n",
      "Loss after 15000 of 100000 iterations: 3.408e-01\n",
      "Loss after 16000 of 100000 iterations: 3.326e-01\n",
      "Loss after 17000 of 100000 iterations: 3.258e-01\n",
      "Loss after 18000 of 100000 iterations: 3.202e-01\n",
      "Loss after 19000 of 100000 iterations: 3.155e-01\n",
      "Loss after 20000 of 100000 iterations: 3.117e-01\n",
      "Loss after 21000 of 100000 iterations: 3.085e-01\n",
      "Loss after 22000 of 100000 iterations: 3.058e-01\n",
      "Loss after 23000 of 100000 iterations: 3.036e-01\n",
      "Loss after 24000 of 100000 iterations: 3.017e-01\n",
      "Loss after 25000 of 100000 iterations: 3.001e-01\n",
      "Loss after 26000 of 100000 iterations: 2.987e-01\n",
      "Loss after 27000 of 100000 iterations: 2.976e-01\n",
      "Loss after 28000 of 100000 iterations: 2.966e-01\n",
      "Loss after 29000 of 100000 iterations: 2.958e-01\n",
      "Loss after 30000 of 100000 iterations: 2.951e-01\n",
      "Loss after 31000 of 100000 iterations: 2.945e-01\n",
      "Loss after 32000 of 100000 iterations: 2.940e-01\n",
      "Loss after 33000 of 100000 iterations: 2.935e-01\n",
      "Loss after 34000 of 100000 iterations: 2.932e-01\n",
      "Loss after 35000 of 100000 iterations: 2.928e-01\n",
      "Loss after 36000 of 100000 iterations: 2.925e-01\n",
      "Loss after 37000 of 100000 iterations: 2.923e-01\n",
      "Loss after 38000 of 100000 iterations: 2.921e-01\n",
      "Loss after 39000 of 100000 iterations: 2.919e-01\n",
      "Loss after 40000 of 100000 iterations: 2.917e-01\n",
      "Loss after 41000 of 100000 iterations: 2.915e-01\n",
      "Loss after 42000 of 100000 iterations: 2.914e-01\n",
      "Loss after 43000 of 100000 iterations: 2.913e-01\n",
      "Loss after 44000 of 100000 iterations: 2.912e-01\n",
      "Loss after 45000 of 100000 iterations: 2.911e-01\n",
      "Loss after 46000 of 100000 iterations: 2.910e-01\n",
      "Loss after 47000 of 100000 iterations: 2.909e-01\n",
      "Loss after 48000 of 100000 iterations: 2.908e-01\n",
      "Loss after 49000 of 100000 iterations: 2.908e-01\n",
      "Loss after 50000 of 100000 iterations: 2.907e-01\n",
      "Loss after 51000 of 100000 iterations: 2.907e-01\n",
      "Loss after 52000 of 100000 iterations: 2.906e-01\n",
      "Loss after 53000 of 100000 iterations: 2.906e-01\n",
      "Loss after 54000 of 100000 iterations: 2.905e-01\n",
      "Loss after 55000 of 100000 iterations: 2.905e-01\n",
      "Loss after 56000 of 100000 iterations: 2.904e-01\n",
      "Loss after 57000 of 100000 iterations: 2.904e-01\n",
      "Loss after 58000 of 100000 iterations: 2.903e-01\n",
      "Loss after 59000 of 100000 iterations: 2.903e-01\n",
      "Loss after 60000 of 100000 iterations: 2.903e-01\n",
      "Loss after 61000 of 100000 iterations: 2.902e-01\n",
      "Loss after 62000 of 100000 iterations: 2.902e-01\n",
      "Loss after 63000 of 100000 iterations: 2.902e-01\n",
      "Loss after 64000 of 100000 iterations: 2.901e-01\n",
      "Loss after 65000 of 100000 iterations: 2.901e-01\n",
      "Loss after 66000 of 100000 iterations: 2.901e-01\n",
      "Loss after 67000 of 100000 iterations: 2.900e-01\n",
      "Loss after 68000 of 100000 iterations: 2.900e-01\n",
      "Loss after 69000 of 100000 iterations: 2.900e-01\n",
      "Loss after 70000 of 100000 iterations: 2.899e-01\n",
      "Loss after 71000 of 100000 iterations: 2.899e-01\n",
      "Loss after 72000 of 100000 iterations: 2.899e-01\n",
      "Loss after 73000 of 100000 iterations: 2.899e-01\n",
      "Loss after 74000 of 100000 iterations: 2.898e-01\n",
      "Loss after 75000 of 100000 iterations: 2.898e-01\n",
      "Loss after 76000 of 100000 iterations: 2.898e-01\n",
      "Loss after 77000 of 100000 iterations: 2.898e-01\n",
      "Loss after 78000 of 100000 iterations: 2.897e-01\n",
      "Loss after 79000 of 100000 iterations: 2.897e-01\n",
      "Loss after 80000 of 100000 iterations: 2.897e-01\n",
      "Loss after 81000 of 100000 iterations: 2.897e-01\n",
      "Loss after 82000 of 100000 iterations: 2.896e-01\n",
      "Loss after 83000 of 100000 iterations: 2.896e-01\n",
      "Loss after 84000 of 100000 iterations: 2.896e-01\n",
      "Loss after 85000 of 100000 iterations: 2.896e-01\n",
      "Loss after 86000 of 100000 iterations: 2.895e-01\n",
      "Loss after 87000 of 100000 iterations: 2.895e-01\n",
      "Loss after 88000 of 100000 iterations: 2.895e-01\n",
      "Loss after 89000 of 100000 iterations: 2.895e-01\n",
      "Loss after 90000 of 100000 iterations: 2.894e-01\n",
      "Loss after 91000 of 100000 iterations: 2.894e-01\n",
      "Loss after 92000 of 100000 iterations: 2.894e-01\n",
      "Loss after 93000 of 100000 iterations: 2.894e-01\n",
      "Loss after 94000 of 100000 iterations: 2.893e-01\n",
      "Loss after 95000 of 100000 iterations: 2.893e-01\n",
      "Loss after 96000 of 100000 iterations: 2.893e-01\n",
      "Loss after 97000 of 100000 iterations: 2.893e-01\n",
      "Loss after 98000 of 100000 iterations: 2.892e-01\n",
      "Loss after 99000 of 100000 iterations: 2.892e-01\n",
      "{'W1': array([[-0.68801829, -0.50574656, -0.7030154 , -0.70230872],\n",
      "       [-0.62793437, -0.69805592, -0.69667309, -0.69595966]]), 'b1': array([[2.76133585, 3.24890045, 2.10799076, 2.10373343]]), 'W2': array([[3.85823035],\n",
      "       [4.25435784],\n",
      "       [3.14884333],\n",
      "       [3.14402303]]), 'b2': array([[-4.98564856]])}\n"
     ]
    }
   ],
   "source": [
    "nn_params, nn_losses = nn_model(X_Train, Y_Train,\n",
    "                                n_h=4,\n",
    "                                learning_rate=10e-3,\n",
    "                                num_iterations=100000,\n",
    "                                print_loss=True,\n",
    "                                validaion_data=[X_Val, Y_Val]\n",
    "                               )\n",
    "print(nn_params)"
   ]
  },
  {
   "cell_type": "code",
   "execution_count": 55,
   "metadata": {
    "collapsed": false
   },
   "outputs": [
    {
     "data": {
      "text/plain": [
       "[<matplotlib.lines.Line2D at 0x1177d52e8>]"
      ]
     },
     "execution_count": 55,
     "metadata": {},
     "output_type": "execute_result"
    },
    {
     "data": {
      "image/png": "[encoded data removed]",
      "text/plain": [
       "<Figure size 240x240 with 1 Axes>"
      ]
     },
     "metadata": {
      "needs_background": "light"
     },
     "output_type": "display_data"
    }
   ],
   "source": [
    "plt.plot(nn_losses['train'])\n",
    "plt.plot(nn_losses['validation'], ls=':')"
   ]
  },
  {
   "cell_type": "code",
   "execution_count": 56,
   "metadata": {
    "collapsed": false
   },
   "outputs": [
    {
     "data": {
      "image/png": "[encoded data removed]",
      "text/plain": [
       "<Figure size 720x240 with 3 Axes>"
      ]
     },
     "metadata": {
      "needs_background": "light"
     },
     "output_type": "display_data"
    }
   ],
   "source": [
    "plt.figure(figsize=(9, 3))\n",
    "\n",
    "ax0 = plt.subplot(1, 3, 1)\n",
    "plt.plot(costs['train'], label='Training')\n",
    "plt.plot(costs['validation'], label='Validation', ls=':')\n",
    "plt.xlabel('Epoch')\n",
    "plt.ylabel('Loss (BCE)')\n",
    "plt.legend(loc='upper right', frameon=False)\n",
    "plt.title('Only Linear')\n",
    "\n",
    "plt.subplot(1, 3, 2, sharey=ax0)\n",
    "plt.plot(costsquad['train'], label='Training')\n",
    "plt.plot(costsquad['validation'], label='Validation', ls=':')\n",
    "plt.xlabel('Epoch')\n",
    "plt.ylabel('Loss (BCE)')\n",
    "plt.legend(loc='upper right', frameon=False)\n",
    "plt.title('All Quadratic')\n",
    "\n",
    "plt.subplot(1, 3, 3, sharey=ax0)\n",
    "plt.plot(nn_losses['train'], label='Training')\n",
    "plt.plot(nn_losses['validation'], label='Validation', ls=':')\n",
    "plt.xlabel('Epoch')\n",
    "plt.ylabel('Loss (BCE)')\n",
    "plt.legend(loc='upper right', frameon=False)\n",
    "plt.title('NN (on linear input)')\n",
    "\n",
    "plt.tight_layout(w_pad=2)"
   ]
  },
  {
   "cell_type": "code",
   "execution_count": 57,
   "metadata": {
    "collapsed": false
   },
   "outputs": [
    {
     "data": {
      "image/png": "[encoded data removed]",
      "text/plain": [
       "<Figure size 480x240 with 2 Axes>"
      ]
     },
     "metadata": {
      "needs_background": "light"
     },
     "output_type": "display_data"
    }
   ],
   "source": [
    "x_space = np.linspace(0, 5, 25)\n",
    "y_space = np.linspace(0, 5, 25)\n",
    "X, Y = np.meshgrid(x_space, y_space)\n",
    "Z_nn = []\n",
    "\n",
    "for x in x_space:\n",
    "    z_nn = []\n",
    "    for y in y_space:\n",
    "#         print(np.array([[x, y]]).shape)\n",
    "        A2, _ = forward_propagation(np.array([[x, y]]), nn_params)\n",
    "#         print(A2)\n",
    "        z_nn.append(A2.squeeze())\n",
    "#         break\n",
    "    Z_nn.append(z_nn)\n",
    "Z_nn = np.array(Z_nn)\n",
    "\n",
    "plt.figure(figsize=(6, 3))\n",
    "\n",
    "plt.subplot(1, 2, 1)\n",
    "plt.contourf(X, Y, 1-Z_nn, 25, cmap='bwr')\n",
    "CS = plt.contour(X, Y, Z_nn, [0.1, 0.5, 0.9], colors='k')\n",
    "plt.clabel(CS, inline=1, fontsize=12)\n",
    "plt.xlim(-0.05, 5.05)\n",
    "plt.ylim(-0.05, 5.05)\n",
    "plt.minorticks_on()\n",
    "plt.xlabel('$x_1$')\n",
    "plt.ylabel('$x_2$')\n",
    "\n",
    "plt.subplot(1, 2, 2)\n",
    "plt.scatter(X_Test[Y_Test.ravel()==1, 0], X_Test[Y_Test.ravel()==1, 1], color='b', s=9, alpha=0.5)\n",
    "plt.scatter(X_Test[Y_Test.ravel()==0, 0], X_Test[Y_Test.ravel()==0, 1], color='r', s=9, alpha=0.5)\n",
    "CS = plt.contour(X, Y, Z_nn, [0.1, 0.5, 0.9,], colors='k')\n",
    "plt.clabel(CS, inline=1, fontsize=12)\n",
    "plt.xlim(-0.0, 5.0)\n",
    "plt.ylim(-0.0, 5.0)\n",
    "plt.minorticks_on()\n",
    "plt.xlabel('$x_1$')\n",
    "plt.ylabel('$x_2$')\n",
    "\n",
    "plt.tight_layout(w_pad=2)\n",
    "\n"
   ]
  },
  {
   "cell_type": "markdown",
   "metadata": {
    "collapsed": true
   },
   "source": [
    "## Discussion\n",
    "What happened here? We went through all of that effort and it seems like the neural network is not doing any better than the original logistic regression. It turns out that the choice of the activation function makes a big difference in how well the network performs. We still want to use the sigmoid on the last step to map the answers between 0 and 1. However, for the hidden layer, we can do better if we use a different function. The most common activation function for the middle layers are\n",
    "\n",
    "Name | Equation <img width=200/>| Derivative<img width=200/>\n",
    "--- | --- | --- \n",
    "REctified Linear Unit (ReLU) | $a(z) = \\left\\{\\begin{matrix}0 & z < 0\\\\ z & z >=0\\end{matrix}\\right.$ | $\\frac{\\partial a}{\\partial z} = \\left\\{\\begin{matrix}0 & z < 0\\\\ 1 & z >=0\\end{matrix}\\right.$\n",
    "tanh | $a(z) = \\tanh(z)$ | $\\frac{\\partial a}{\\partial z} = 1-a^2$ |\n",
    "\n",
    "Both of these are simple to implement.\n",
    "\n",
    "**Exercise:**\n",
    "Implement one of the new activation functions.\n",
    "- Define the function (or use np.tanh()) above the `propagate` function cell. Then use this in the a1 = func(z1), but not for the a2 = func(z2).\n",
    "- Add the derivative term to the dZ1 term in the `backward_propagation` cell. \n",
    "- These should be the only changes needed, rerun using the same parameters. You should get out a decision boundary that looks more similar to a curve (but is an interpolation of straight lines)."
   ]
  },
  {
   "cell_type": "markdown",
   "metadata": {
    "collapsed": true
   },
   "source": [
    "**Extra Challenge:**\n",
    "\n",
    "The real power of deep learning comes from making the networks deeper, rather than adding more units to the hidden layer. From the code we have here, generalize to network with 2 hidden layers, with the final output now being a3 instead of a2. \n",
    "\n",
    "**Even more challenging:**\n",
    "\n",
    "Adjust the code so that you only need to pick *how many layers* and it will add in the appropriate forward and backward propagation steps."
   ]
  },
  {
   "cell_type": "code",
   "execution_count": null,
   "metadata": {
    "collapsed": true
   },
   "outputs": [],
   "source": []
  }
 ],
 "metadata": {
  "anaconda-cloud": {},
  "kernelspec": {
   "display_name": "Python [conda env:p3]",
   "language": "python",
   "name": "conda-env-p3-py"
  },
  "language_info": {
   "codemirror_mode": {
    "name": "ipython",
    "version": 3
   },
   "file_extension": ".py",
   "mimetype": "text/x-python",
   "name": "python",
   "nbconvert_exporter": "python",
   "pygments_lexer": "ipython3",
   "version": "3.7.3"
  },
  "toc": {
   "colors": {
    "hover_highlight": "#DAA520",
    "navigate_num": "#000000",
    "navigate_text": "#333333",
    "running_highlight": "#FF0000",
    "selected_highlight": "#FFD700",
    "sidebar_border": "#EEEEEE",
    "wrapper_background": "#FFFFFF"
   },
   "moveMenuLeft": true,
   "nav_menu": {
    "height": "444px",
    "width": "252px"
   },
   "navigate_menu": true,
   "number_sections": true,
   "sideBar": true,
   "threshold": 4,
   "toc_cell": true,
   "toc_section_display": "block",
   "toc_window_display": true,
   "widenNotebook": false
  }
 },
 "nbformat": 4,
 "nbformat_minor": 2
}
